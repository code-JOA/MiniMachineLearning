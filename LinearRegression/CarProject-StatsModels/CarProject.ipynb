{
 "cells": [
  {
   "cell_type": "markdown",
   "metadata": {},
   "source": [
    "# [Import Libraries](#0)"
   ]
  },
  {
   "cell_type": "code",
   "execution_count": 1,
   "metadata": {},
   "outputs": [],
   "source": [
    "import pandas as pd\n",
    "import numpy as np\n",
    "from sklearn import (metrics, linear_model, preprocessing)\n",
    "from sklearn.model_selection import cross_validate\n",
    "from sklearn.impute import SimpleImputer\n",
    "import matplotlib.pyplt as plt\n",
    "import seaborn as sns\n",
    "%matplotlib inline\n",
    "\n",
    "import warnings\n",
    "warnings.filterwarnings(\"ignore\")"
   ]
  },
  {
   "cell_type": "markdown",
   "metadata": {},
   "source": [
    "# <a id='7'>Q1) Open the csv file into a data frame 'carprice' with missing value dot 'Nan'<a/>"
   ]
  },
  {
   "cell_type": "code",
   "execution_count": 2,
   "metadata": {},
   "outputs": [
    {
     "data": {
      "text/html": [
       "<div>\n",
       "<style scoped>\n",
       "    .dataframe tbody tr th:only-of-type {\n",
       "        vertical-align: middle;\n",
       "    }\n",
       "\n",
       "    .dataframe tbody tr th {\n",
       "        vertical-align: top;\n",
       "    }\n",
       "\n",
       "    .dataframe thead th {\n",
       "        text-align: right;\n",
       "    }\n",
       "</style>\n",
       "<table border=\"1\" class=\"dataframe\">\n",
       "  <thead>\n",
       "    <tr style=\"text-align: right;\">\n",
       "      <th></th>\n",
       "      <th>car_id</th>\n",
       "      <th>price</th>\n",
       "      <th>Kilometers</th>\n",
       "      <th>hp</th>\n",
       "      <th>Brand</th>\n",
       "      <th>Sport</th>\n",
       "      <th>age</th>\n",
       "      <th>Users</th>\n",
       "      <th>gas</th>\n",
       "      <th>Metalilic</th>\n",
       "      <th>CC</th>\n",
       "      <th>Weight</th>\n",
       "      <th>QuartTax</th>\n",
       "      <th>Automatic</th>\n",
       "      <th>red</th>\n",
       "      <th>Owner_gender</th>\n",
       "      <th>door</th>\n",
       "    </tr>\n",
       "  </thead>\n",
       "  <tbody>\n",
       "    <tr>\n",
       "      <th>0</th>\n",
       "      <td>3548</td>\n",
       "      <td>48750</td>\n",
       "      <td>NaN</td>\n",
       "      <td>110</td>\n",
       "      <td>6</td>\n",
       "      <td>YES</td>\n",
       "      <td>7</td>\n",
       "      <td>1</td>\n",
       "      <td>590.0</td>\n",
       "      <td>NO</td>\n",
       "      <td>1800</td>\n",
       "      <td>1170.0</td>\n",
       "      <td>100</td>\n",
       "      <td>YES</td>\n",
       "      <td>NO</td>\n",
       "      <td>M</td>\n",
       "      <td>4</td>\n",
       "    </tr>\n",
       "    <tr>\n",
       "      <th>1</th>\n",
       "      <td>903</td>\n",
       "      <td>16610</td>\n",
       "      <td>NaN</td>\n",
       "      <td>110</td>\n",
       "      <td>3</td>\n",
       "      <td>NO</td>\n",
       "      <td>8</td>\n",
       "      <td>1</td>\n",
       "      <td>391.0</td>\n",
       "      <td>YES</td>\n",
       "      <td>2200</td>\n",
       "      <td>1250.0</td>\n",
       "      <td>270</td>\n",
       "      <td>YES</td>\n",
       "      <td>NO</td>\n",
       "      <td>F</td>\n",
       "      <td>4</td>\n",
       "    </tr>\n",
       "    <tr>\n",
       "      <th>2</th>\n",
       "      <td>3903</td>\n",
       "      <td>27100</td>\n",
       "      <td>3040.0</td>\n",
       "      <td>110</td>\n",
       "      <td>2</td>\n",
       "      <td>YES</td>\n",
       "      <td>8</td>\n",
       "      <td>1</td>\n",
       "      <td>478.0</td>\n",
       "      <td>NO</td>\n",
       "      <td>1900</td>\n",
       "      <td>1186.0</td>\n",
       "      <td>120</td>\n",
       "      <td>YES</td>\n",
       "      <td>YES</td>\n",
       "      <td>M</td>\n",
       "      <td>4</td>\n",
       "    </tr>\n",
       "    <tr>\n",
       "      <th>3</th>\n",
       "      <td>5098</td>\n",
       "      <td>24240</td>\n",
       "      <td>4690.0</td>\n",
       "      <td>110</td>\n",
       "      <td>5</td>\n",
       "      <td>NO</td>\n",
       "      <td>8</td>\n",
       "      <td>1</td>\n",
       "      <td>NaN</td>\n",
       "      <td>NO</td>\n",
       "      <td>1800</td>\n",
       "      <td>1170.0</td>\n",
       "      <td>100</td>\n",
       "      <td>YES</td>\n",
       "      <td>NO</td>\n",
       "      <td>M</td>\n",
       "      <td>4</td>\n",
       "    </tr>\n",
       "    <tr>\n",
       "      <th>4</th>\n",
       "      <td>3364</td>\n",
       "      <td>13030</td>\n",
       "      <td>5820.0</td>\n",
       "      <td>110</td>\n",
       "      <td>5</td>\n",
       "      <td>NO</td>\n",
       "      <td>9</td>\n",
       "      <td>1</td>\n",
       "      <td>NaN</td>\n",
       "      <td>YES</td>\n",
       "      <td>2200</td>\n",
       "      <td>1250.0</td>\n",
       "      <td>80</td>\n",
       "      <td>NO</td>\n",
       "      <td>NO</td>\n",
       "      <td>F</td>\n",
       "      <td>4</td>\n",
       "    </tr>\n",
       "  </tbody>\n",
       "</table>\n",
       "</div>"
      ],
      "text/plain": [
       "   car_id  price  Kilometers   hp  Brand Sport  age  Users    gas Metalilic  \\\n",
       "0    3548  48750         NaN  110      6   YES    7      1  590.0        NO   \n",
       "1     903  16610         NaN  110      3    NO    8      1  391.0       YES   \n",
       "2    3903  27100      3040.0  110      2   YES    8      1  478.0        NO   \n",
       "3    5098  24240      4690.0  110      5    NO    8      1    NaN        NO   \n",
       "4    3364  13030      5820.0  110      5    NO    9      1    NaN       YES   \n",
       "\n",
       "     CC  Weight  QuartTax Automatic  red Owner_gender  door  \n",
       "0  1800  1170.0       100       YES   NO            M     4  \n",
       "1  2200  1250.0       270       YES   NO            F     4  \n",
       "2  1900  1186.0       120       YES  YES            M     4  \n",
       "3  1800  1170.0       100       YES   NO            M     4  \n",
       "4  2200  1250.0        80        NO   NO            F     4  "
      ]
     },
     "execution_count": 2,
     "metadata": {},
     "output_type": "execute_result"
    }
   ],
   "source": [
    "path = 'carprice.csv'\n",
    "df = pd.read_csv(path, na_values = 'Nan')\n",
    "df.head()"
   ]
  },
  {
   "cell_type": "code",
   "execution_count": 3,
   "metadata": {},
   "outputs": [
    {
     "name": "stdout",
     "output_type": "stream",
     "text": [
      "CarPrice Data - rows: 5239 columns: 17\n"
     ]
    }
   ],
   "source": [
    "print('CarPrice Data - rows:' , df.shape[0],'columns:', df.shape[1])"
   ]
  },
  {
   "cell_type": "code",
   "execution_count": null,
   "metadata": {},
   "outputs": [],
   "source": []
  },
  {
   "cell_type": "markdown",
   "metadata": {},
   "source": [
    "# <a id='7'>Q2) For each variable in the data frame, check the number of missing values<a/>"
   ]
  },
  {
   "cell_type": "code",
   "execution_count": 4,
   "metadata": {},
   "outputs": [
    {
     "name": "stdout",
     "output_type": "stream",
     "text": [
      "There is 1189 missing values in the dataframe\n"
     ]
    }
   ],
   "source": [
    "print(\"There is {} missing values in the dataframe\".format(df.isnull().sum().sum()))"
   ]
  },
  {
   "cell_type": "code",
   "execution_count": 5,
   "metadata": {},
   "outputs": [
    {
     "data": {
      "text/html": [
       "<div>\n",
       "<style scoped>\n",
       "    .dataframe tbody tr th:only-of-type {\n",
       "        vertical-align: middle;\n",
       "    }\n",
       "\n",
       "    .dataframe tbody tr th {\n",
       "        vertical-align: top;\n",
       "    }\n",
       "\n",
       "    .dataframe thead th {\n",
       "        text-align: right;\n",
       "    }\n",
       "</style>\n",
       "<table border=\"1\" class=\"dataframe\">\n",
       "  <thead>\n",
       "    <tr style=\"text-align: right;\">\n",
       "      <th></th>\n",
       "      <th>Weight</th>\n",
       "      <th>Kilometers</th>\n",
       "      <th>gas</th>\n",
       "      <th>Users</th>\n",
       "      <th>price</th>\n",
       "      <th>hp</th>\n",
       "      <th>Brand</th>\n",
       "      <th>Sport</th>\n",
       "      <th>age</th>\n",
       "      <th>door</th>\n",
       "      <th>Owner_gender</th>\n",
       "      <th>Metalilic</th>\n",
       "      <th>CC</th>\n",
       "      <th>QuartTax</th>\n",
       "      <th>Automatic</th>\n",
       "      <th>red</th>\n",
       "      <th>car_id</th>\n",
       "    </tr>\n",
       "  </thead>\n",
       "  <tbody>\n",
       "    <tr>\n",
       "      <th>Total</th>\n",
       "      <td>570.000000</td>\n",
       "      <td>358.000000</td>\n",
       "      <td>261.000000</td>\n",
       "      <td>0.0</td>\n",
       "      <td>0.0</td>\n",
       "      <td>0.0</td>\n",
       "      <td>0.0</td>\n",
       "      <td>0.0</td>\n",
       "      <td>0.0</td>\n",
       "      <td>0.0</td>\n",
       "      <td>0.0</td>\n",
       "      <td>0.0</td>\n",
       "      <td>0.0</td>\n",
       "      <td>0.0</td>\n",
       "      <td>0.0</td>\n",
       "      <td>0.0</td>\n",
       "      <td>0.0</td>\n",
       "    </tr>\n",
       "    <tr>\n",
       "      <th>Percent</th>\n",
       "      <td>10.879939</td>\n",
       "      <td>6.833365</td>\n",
       "      <td>4.981867</td>\n",
       "      <td>0.0</td>\n",
       "      <td>0.0</td>\n",
       "      <td>0.0</td>\n",
       "      <td>0.0</td>\n",
       "      <td>0.0</td>\n",
       "      <td>0.0</td>\n",
       "      <td>0.0</td>\n",
       "      <td>0.0</td>\n",
       "      <td>0.0</td>\n",
       "      <td>0.0</td>\n",
       "      <td>0.0</td>\n",
       "      <td>0.0</td>\n",
       "      <td>0.0</td>\n",
       "      <td>0.0</td>\n",
       "    </tr>\n",
       "  </tbody>\n",
       "</table>\n",
       "</div>"
      ],
      "text/plain": [
       "             Weight  Kilometers         gas  Users  price   hp  Brand  Sport  \\\n",
       "Total    570.000000  358.000000  261.000000    0.0    0.0  0.0    0.0    0.0   \n",
       "Percent   10.879939    6.833365    4.981867    0.0    0.0  0.0    0.0    0.0   \n",
       "\n",
       "         age  door  Owner_gender  Metalilic   CC  QuartTax  Automatic  red  \\\n",
       "Total    0.0   0.0           0.0        0.0  0.0       0.0        0.0  0.0   \n",
       "Percent  0.0   0.0           0.0        0.0  0.0       0.0        0.0  0.0   \n",
       "\n",
       "         car_id  \n",
       "Total       0.0  \n",
       "Percent     0.0  "
      ]
     },
     "execution_count": 5,
     "metadata": {},
     "output_type": "execute_result"
    }
   ],
   "source": [
    "# Checking for % of missing values in our data\n",
    "total = df.isnull().sum().sort_values(ascending=False)\n",
    "percent = (df.isnull().sum()/df.isnull().count()*100).sort_values(ascending=False)\n",
    "pd.concat([total, percent], axis=1, keys=['Total','Percent']).transpose()"
   ]
  },
  {
   "cell_type": "markdown",
   "metadata": {},
   "source": [
    "# &#9758; Observation: \n",
    "- Weight has 10% of missing data\n",
    "- Kilometers has 6.8% of missing data\n",
    "- Gas has 4.98% of missing data"
   ]
  },
  {
   "cell_type": "code",
   "execution_count": null,
   "metadata": {},
   "outputs": [],
   "source": []
  },
  {
   "cell_type": "markdown",
   "metadata": {},
   "source": [
    "# <a id='7'>Q3) Extract the data frame (to replace data frame 'carprice') with the values of the following variables 'gas, Kilometers, age, Weight, QuartTax' non-negative<a/>"
   ]
  },
  {
   "cell_type": "code",
   "execution_count": 7,
   "metadata": {},
   "outputs": [
    {
     "data": {
      "text/html": [
       "<div>\n",
       "<style scoped>\n",
       "    .dataframe tbody tr th:only-of-type {\n",
       "        vertical-align: middle;\n",
       "    }\n",
       "\n",
       "    .dataframe tbody tr th {\n",
       "        vertical-align: top;\n",
       "    }\n",
       "\n",
       "    .dataframe thead th {\n",
       "        text-align: right;\n",
       "    }\n",
       "</style>\n",
       "<table border=\"1\" class=\"dataframe\">\n",
       "  <thead>\n",
       "    <tr style=\"text-align: right;\">\n",
       "      <th></th>\n",
       "      <th>gas</th>\n",
       "      <th>Kilometers</th>\n",
       "      <th>age</th>\n",
       "      <th>Weight</th>\n",
       "      <th>QuartTax</th>\n",
       "    </tr>\n",
       "  </thead>\n",
       "  <tbody>\n",
       "    <tr>\n",
       "      <th>0</th>\n",
       "      <td>590.0</td>\n",
       "      <td>NaN</td>\n",
       "      <td>7</td>\n",
       "      <td>1170.0</td>\n",
       "      <td>100</td>\n",
       "    </tr>\n",
       "    <tr>\n",
       "      <th>1</th>\n",
       "      <td>391.0</td>\n",
       "      <td>NaN</td>\n",
       "      <td>8</td>\n",
       "      <td>1250.0</td>\n",
       "      <td>270</td>\n",
       "    </tr>\n",
       "    <tr>\n",
       "      <th>2</th>\n",
       "      <td>478.0</td>\n",
       "      <td>3040.0</td>\n",
       "      <td>8</td>\n",
       "      <td>1186.0</td>\n",
       "      <td>120</td>\n",
       "    </tr>\n",
       "    <tr>\n",
       "      <th>3</th>\n",
       "      <td>NaN</td>\n",
       "      <td>4690.0</td>\n",
       "      <td>8</td>\n",
       "      <td>1170.0</td>\n",
       "      <td>100</td>\n",
       "    </tr>\n",
       "    <tr>\n",
       "      <th>4</th>\n",
       "      <td>NaN</td>\n",
       "      <td>5820.0</td>\n",
       "      <td>9</td>\n",
       "      <td>1250.0</td>\n",
       "      <td>80</td>\n",
       "    </tr>\n",
       "  </tbody>\n",
       "</table>\n",
       "</div>"
      ],
      "text/plain": [
       "     gas  Kilometers  age  Weight  QuartTax\n",
       "0  590.0         NaN    7  1170.0       100\n",
       "1  391.0         NaN    8  1250.0       270\n",
       "2  478.0      3040.0    8  1186.0       120\n",
       "3    NaN      4690.0    8  1170.0       100\n",
       "4    NaN      5820.0    9  1250.0        80"
      ]
     },
     "execution_count": 7,
     "metadata": {},
     "output_type": "execute_result"
    }
   ],
   "source": [
    "df1 = df[['gas','Kilometers','age','Weight','QuartTax']]\n",
    "df1.head()"
   ]
  },
  {
   "cell_type": "code",
   "execution_count": null,
   "metadata": {},
   "outputs": [],
   "source": []
  },
  {
   "cell_type": "markdown",
   "metadata": {},
   "source": [
    "# <a id='7'>Q4) Check the numbers of levels of the variables 'Brand, hp, cc, Users, door'. Should these features be considered as continuous or categorical variables?<a/>"
   ]
  },
  {
   "cell_type": "code",
   "execution_count": 8,
   "metadata": {},
   "outputs": [
    {
     "name": "stdout",
     "output_type": "stream",
     "text": [
      "-------------------- hp -----------------------------\n",
      "['levels for the variable hp:', 192, 110, 90, 70]\n",
      "['# of levels for the variable hp:', 1804, 1504, 1480, 451]\n",
      "['# of categories for the variable hp:', 4]\n",
      "-------------------------------------------------\n",
      "-------------------- Brand -----------------------------\n",
      "['levels for the variable Brand:', 4, 5, 3, 2, 6, 1]\n",
      "['# of levels for the variable Brand:', 1401, 934, 823, 711, 685, 685]\n",
      "['# of categories for the variable Brand:', 6]\n",
      "-------------------------------------------------\n",
      "-------------------- Sport -----------------------------\n",
      "['levels for the variable Sport:', 'NO', 'YES']\n",
      "['# of levels for the variable Sport:', 3159, 2080]\n",
      "['# of categories for the variable Sport:', 2]\n",
      "-------------------------------------------------\n",
      "-------------------- Users -----------------------------\n",
      "['levels for the variable Users:', 1, 2, 3]\n",
      "['# of levels for the variable Users:', 3178, 1743, 318]\n",
      "['# of categories for the variable Users:', 3]\n",
      "-------------------------------------------------\n",
      "-------------------- CC -----------------------------\n",
      "['levels for the variable CC:', 1900, 1800, 2000, 2200, 1600]\n",
      "['# of levels for the variable CC:', 1394, 1161, 1129, 984, 571]\n",
      "['# of categories for the variable CC:', 5]\n",
      "-------------------------------------------------\n",
      "-------------------- Automatic -----------------------------\n",
      "['levels for the variable Automatic:', 'YES', 'NO']\n",
      "['# of levels for the variable Automatic:', 3549, 1690]\n",
      "['# of categories for the variable Automatic:', 2]\n",
      "-------------------------------------------------\n",
      "-------------------- red -----------------------------\n",
      "['levels for the variable red:', 'NO', 'YES']\n",
      "['# of levels for the variable red:', 4309, 930]\n",
      "['# of categories for the variable red:', 2]\n",
      "-------------------------------------------------\n",
      "-------------------- Owner_gender -----------------------------\n",
      "['levels for the variable Owner_gender:', 'M', 'F']\n",
      "['# of levels for the variable Owner_gender:', 3352, 1887]\n",
      "['# of categories for the variable Owner_gender:', 2]\n",
      "-------------------------------------------------\n",
      "-------------------- door -----------------------------\n",
      "['levels for the variable door:', 4, 2]\n",
      "['# of levels for the variable door:', 4450, 789]\n",
      "['# of categories for the variable door:', 2]\n",
      "-------------------------------------------------\n"
     ]
    }
   ],
   "source": [
    "# check categrical variables. should Brand, hp, cc, Users, and door be considered as continous or categirical?\n",
    "v = ['hp', 'Brand', 'Sport', 'Users', 'CC', 'Automatic', 'red', 'Owner_gender','door']\n",
    "\n",
    "for j in range(len(v)):\n",
    "    field = v[j]\n",
    "    print ('-------------------- ' + field + ' -----------------------------')\n",
    "    z = ['levels for the variable '+ field + ':']\n",
    "    s = df[field].value_counts()\n",
    "    ind = list(s.index)\n",
    "    z.extend(ind)\n",
    "    print (z)\n",
    "    \n",
    "    z = ['# of levels for the variable '+ field + ':']\n",
    "    s = list(df[field].value_counts())\n",
    "    z.extend(s)\n",
    "    print (z)\n",
    "    \n",
    "    z = ['# of categories for the variable '+ field + ':']\n",
    "    z.extend([len(s)])\n",
    "    print (z)\n",
    "    print ('-------------------------------------------------')"
   ]
  },
  {
   "cell_type": "code",
   "execution_count": null,
   "metadata": {},
   "outputs": [],
   "source": []
  },
  {
   "cell_type": "markdown",
   "metadata": {},
   "source": [
    "# <a id='7'>Q5) Generate the missing dummy variables for those features with missing values, and impute the values with missing values<a/>"
   ]
  },
  {
   "cell_type": "code",
   "execution_count": null,
   "metadata": {},
   "outputs": [],
   "source": [
    "# now we impute missing values and generate missing dummy variables"
   ]
  },
  {
   "cell_type": "code",
   "execution_count": 10,
   "metadata": {},
   "outputs": [
    {
     "data": {
      "text/html": [
       "<div>\n",
       "<style scoped>\n",
       "    .dataframe tbody tr th:only-of-type {\n",
       "        vertical-align: middle;\n",
       "    }\n",
       "\n",
       "    .dataframe tbody tr th {\n",
       "        vertical-align: top;\n",
       "    }\n",
       "\n",
       "    .dataframe thead th {\n",
       "        text-align: right;\n",
       "    }\n",
       "</style>\n",
       "<table border=\"1\" class=\"dataframe\">\n",
       "  <thead>\n",
       "    <tr style=\"text-align: right;\">\n",
       "      <th></th>\n",
       "      <th>car_id</th>\n",
       "      <th>price</th>\n",
       "      <th>Kilometers</th>\n",
       "      <th>hp</th>\n",
       "      <th>Brand</th>\n",
       "      <th>Sport</th>\n",
       "      <th>age</th>\n",
       "      <th>Users</th>\n",
       "      <th>gas</th>\n",
       "      <th>Metalilic</th>\n",
       "      <th>CC</th>\n",
       "      <th>Weight</th>\n",
       "      <th>QuartTax</th>\n",
       "      <th>Automatic</th>\n",
       "      <th>red</th>\n",
       "      <th>Owner_gender</th>\n",
       "      <th>door</th>\n",
       "      <th>Kilometers_miss_fg</th>\n",
       "      <th>gas_miss_fg</th>\n",
       "      <th>Weight_miss_fg</th>\n",
       "    </tr>\n",
       "  </thead>\n",
       "  <tbody>\n",
       "    <tr>\n",
       "      <th>0</th>\n",
       "      <td>3548</td>\n",
       "      <td>48750</td>\n",
       "      <td>109300.0</td>\n",
       "      <td>110</td>\n",
       "      <td>6</td>\n",
       "      <td>YES</td>\n",
       "      <td>7</td>\n",
       "      <td>1</td>\n",
       "      <td>590.0</td>\n",
       "      <td>NO</td>\n",
       "      <td>1800</td>\n",
       "      <td>1170.0</td>\n",
       "      <td>100</td>\n",
       "      <td>YES</td>\n",
       "      <td>NO</td>\n",
       "      <td>M</td>\n",
       "      <td>4</td>\n",
       "      <td>1</td>\n",
       "      <td>0</td>\n",
       "      <td>0</td>\n",
       "    </tr>\n",
       "    <tr>\n",
       "      <th>1</th>\n",
       "      <td>903</td>\n",
       "      <td>16610</td>\n",
       "      <td>109300.0</td>\n",
       "      <td>110</td>\n",
       "      <td>3</td>\n",
       "      <td>NO</td>\n",
       "      <td>8</td>\n",
       "      <td>1</td>\n",
       "      <td>391.0</td>\n",
       "      <td>YES</td>\n",
       "      <td>2200</td>\n",
       "      <td>1250.0</td>\n",
       "      <td>270</td>\n",
       "      <td>YES</td>\n",
       "      <td>NO</td>\n",
       "      <td>F</td>\n",
       "      <td>4</td>\n",
       "      <td>1</td>\n",
       "      <td>0</td>\n",
       "      <td>0</td>\n",
       "    </tr>\n",
       "    <tr>\n",
       "      <th>2</th>\n",
       "      <td>3903</td>\n",
       "      <td>27100</td>\n",
       "      <td>3040.0</td>\n",
       "      <td>110</td>\n",
       "      <td>2</td>\n",
       "      <td>YES</td>\n",
       "      <td>8</td>\n",
       "      <td>1</td>\n",
       "      <td>478.0</td>\n",
       "      <td>NO</td>\n",
       "      <td>1900</td>\n",
       "      <td>1186.0</td>\n",
       "      <td>120</td>\n",
       "      <td>YES</td>\n",
       "      <td>YES</td>\n",
       "      <td>M</td>\n",
       "      <td>4</td>\n",
       "      <td>0</td>\n",
       "      <td>0</td>\n",
       "      <td>0</td>\n",
       "    </tr>\n",
       "    <tr>\n",
       "      <th>3</th>\n",
       "      <td>5098</td>\n",
       "      <td>24240</td>\n",
       "      <td>4690.0</td>\n",
       "      <td>110</td>\n",
       "      <td>5</td>\n",
       "      <td>NO</td>\n",
       "      <td>8</td>\n",
       "      <td>1</td>\n",
       "      <td>385.0</td>\n",
       "      <td>NO</td>\n",
       "      <td>1800</td>\n",
       "      <td>1170.0</td>\n",
       "      <td>100</td>\n",
       "      <td>YES</td>\n",
       "      <td>NO</td>\n",
       "      <td>M</td>\n",
       "      <td>4</td>\n",
       "      <td>0</td>\n",
       "      <td>1</td>\n",
       "      <td>0</td>\n",
       "    </tr>\n",
       "    <tr>\n",
       "      <th>4</th>\n",
       "      <td>3364</td>\n",
       "      <td>13030</td>\n",
       "      <td>5820.0</td>\n",
       "      <td>110</td>\n",
       "      <td>5</td>\n",
       "      <td>NO</td>\n",
       "      <td>9</td>\n",
       "      <td>1</td>\n",
       "      <td>385.0</td>\n",
       "      <td>YES</td>\n",
       "      <td>2200</td>\n",
       "      <td>1250.0</td>\n",
       "      <td>80</td>\n",
       "      <td>NO</td>\n",
       "      <td>NO</td>\n",
       "      <td>F</td>\n",
       "      <td>4</td>\n",
       "      <td>0</td>\n",
       "      <td>1</td>\n",
       "      <td>0</td>\n",
       "    </tr>\n",
       "  </tbody>\n",
       "</table>\n",
       "</div>"
      ],
      "text/plain": [
       "   car_id  price  Kilometers   hp  Brand Sport  age  Users    gas Metalilic  \\\n",
       "0    3548  48750    109300.0  110      6   YES    7      1  590.0        NO   \n",
       "1     903  16610    109300.0  110      3    NO    8      1  391.0       YES   \n",
       "2    3903  27100      3040.0  110      2   YES    8      1  478.0        NO   \n",
       "3    5098  24240      4690.0  110      5    NO    8      1  385.0        NO   \n",
       "4    3364  13030      5820.0  110      5    NO    9      1  385.0       YES   \n",
       "\n",
       "     CC  Weight  QuartTax Automatic  red Owner_gender  door  \\\n",
       "0  1800  1170.0       100       YES   NO            M     4   \n",
       "1  2200  1250.0       270       YES   NO            F     4   \n",
       "2  1900  1186.0       120       YES  YES            M     4   \n",
       "3  1800  1170.0       100       YES   NO            M     4   \n",
       "4  2200  1250.0        80        NO   NO            F     4   \n",
       "\n",
       "   Kilometers_miss_fg  gas_miss_fg  Weight_miss_fg  \n",
       "0                   1            0               0  \n",
       "1                   1            0               0  \n",
       "2                   0            0               0  \n",
       "3                   0            1               0  \n",
       "4                   0            1               0  "
      ]
     },
     "execution_count": 10,
     "metadata": {},
     "output_type": "execute_result"
    }
   ],
   "source": [
    "# here i created 3 dummy columns\n",
    "df['Kilometers_miss_fg'] = df.Kilometers.isnull() + 0\n",
    "df['gas_miss_fg'] = df.gas.isnull() + 0\n",
    "df['Weight_miss_fg'] = df.Weight.isnull() + 0\n",
    "\n",
    "# impute missing values for the three columns with missing values\n",
    "varlistnum = ['Kilometers','gas','Weight']\n",
    "\n",
    "# here i wrote this simple for loop to fill null values with the median of each column\n",
    "for varname in varlistnum:\n",
    "    df[varname].fillna(df[varname].median(), inplace=True)\n",
    "    \n",
    "df.head()    "
   ]
  },
  {
   "cell_type": "code",
   "execution_count": null,
   "metadata": {},
   "outputs": [],
   "source": []
  },
  {
   "cell_type": "code",
   "execution_count": 12,
   "metadata": {},
   "outputs": [
    {
     "data": {
      "text/plain": [
       "car_id                0\n",
       "price                 0\n",
       "Kilometers            0\n",
       "hp                    0\n",
       "Brand                 0\n",
       "Sport                 0\n",
       "age                   0\n",
       "Users                 0\n",
       "gas                   0\n",
       "Metalilic             0\n",
       "CC                    0\n",
       "Weight                0\n",
       "QuartTax              0\n",
       "Automatic             0\n",
       "red                   0\n",
       "Owner_gender          0\n",
       "door                  0\n",
       "Kilometers_miss_fg    0\n",
       "gas_miss_fg           0\n",
       "Weight_miss_fg        0\n",
       "dtype: int64"
      ]
     },
     "execution_count": 12,
     "metadata": {},
     "output_type": "execute_result"
    }
   ],
   "source": [
    "# Checking results for missing values in the dataframe - Data is now clean\n",
    "df.isna().sum()"
   ]
  },
  {
   "cell_type": "code",
   "execution_count": null,
   "metadata": {},
   "outputs": [],
   "source": []
  },
  {
   "cell_type": "code",
   "execution_count": 11,
   "metadata": {},
   "outputs": [],
   "source": [
    "# Making copies of the df\n",
    "df2 = df[:]"
   ]
  },
  {
   "cell_type": "code",
   "execution_count": 21,
   "metadata": {},
   "outputs": [
    {
     "data": {
      "text/plain": [
       "20"
      ]
     },
     "execution_count": 21,
     "metadata": {},
     "output_type": "execute_result"
    }
   ],
   "source": [
    "len(df2.columns)"
   ]
  },
  {
   "cell_type": "code",
   "execution_count": null,
   "metadata": {},
   "outputs": [],
   "source": [
    "df = df2[:]"
   ]
  },
  {
   "cell_type": "code",
   "execution_count": null,
   "metadata": {},
   "outputs": [],
   "source": []
  },
  {
   "cell_type": "markdown",
   "metadata": {},
   "source": [
    "# <a id='7'>Q6) Append all the dummy variables generated above to the original data frame 'carprice'<a/>"
   ]
  },
  {
   "cell_type": "code",
   "execution_count": null,
   "metadata": {},
   "outputs": [],
   "source": []
  },
  {
   "cell_type": "code",
   "execution_count": 18,
   "metadata": {},
   "outputs": [
    {
     "name": "stdout",
     "output_type": "stream",
     "text": [
      "(5239, 44)\n"
     ]
    },
    {
     "data": {
      "text/html": [
       "<div>\n",
       "<style scoped>\n",
       "    .dataframe tbody tr th:only-of-type {\n",
       "        vertical-align: middle;\n",
       "    }\n",
       "\n",
       "    .dataframe tbody tr th {\n",
       "        vertical-align: top;\n",
       "    }\n",
       "\n",
       "    .dataframe thead th {\n",
       "        text-align: right;\n",
       "    }\n",
       "</style>\n",
       "<table border=\"1\" class=\"dataframe\">\n",
       "  <thead>\n",
       "    <tr style=\"text-align: right;\">\n",
       "      <th></th>\n",
       "      <th>car_id</th>\n",
       "      <th>price</th>\n",
       "      <th>Kilometers</th>\n",
       "      <th>hp</th>\n",
       "      <th>Brand</th>\n",
       "      <th>Sport</th>\n",
       "      <th>age</th>\n",
       "      <th>Users</th>\n",
       "      <th>gas</th>\n",
       "      <th>Metalilic</th>\n",
       "      <th>...</th>\n",
       "      <th>Users_0</th>\n",
       "      <th>Users_1</th>\n",
       "      <th>Automatic_NO</th>\n",
       "      <th>Automatic_YES</th>\n",
       "      <th>red_NO</th>\n",
       "      <th>red_YES</th>\n",
       "      <th>Owner_gender_F</th>\n",
       "      <th>Owner_gender_M</th>\n",
       "      <th>door_2</th>\n",
       "      <th>door_4</th>\n",
       "    </tr>\n",
       "  </thead>\n",
       "  <tbody>\n",
       "    <tr>\n",
       "      <th>0</th>\n",
       "      <td>3548</td>\n",
       "      <td>48750</td>\n",
       "      <td>109300.0</td>\n",
       "      <td>110</td>\n",
       "      <td>6</td>\n",
       "      <td>YES</td>\n",
       "      <td>7</td>\n",
       "      <td>0</td>\n",
       "      <td>590.0</td>\n",
       "      <td>NO</td>\n",
       "      <td>...</td>\n",
       "      <td>1</td>\n",
       "      <td>0</td>\n",
       "      <td>0</td>\n",
       "      <td>1</td>\n",
       "      <td>1</td>\n",
       "      <td>0</td>\n",
       "      <td>0</td>\n",
       "      <td>1</td>\n",
       "      <td>0</td>\n",
       "      <td>1</td>\n",
       "    </tr>\n",
       "    <tr>\n",
       "      <th>1</th>\n",
       "      <td>903</td>\n",
       "      <td>16610</td>\n",
       "      <td>109300.0</td>\n",
       "      <td>110</td>\n",
       "      <td>3</td>\n",
       "      <td>NO</td>\n",
       "      <td>8</td>\n",
       "      <td>0</td>\n",
       "      <td>391.0</td>\n",
       "      <td>YES</td>\n",
       "      <td>...</td>\n",
       "      <td>1</td>\n",
       "      <td>0</td>\n",
       "      <td>0</td>\n",
       "      <td>1</td>\n",
       "      <td>1</td>\n",
       "      <td>0</td>\n",
       "      <td>1</td>\n",
       "      <td>0</td>\n",
       "      <td>0</td>\n",
       "      <td>1</td>\n",
       "    </tr>\n",
       "    <tr>\n",
       "      <th>2</th>\n",
       "      <td>3903</td>\n",
       "      <td>27100</td>\n",
       "      <td>3040.0</td>\n",
       "      <td>110</td>\n",
       "      <td>2</td>\n",
       "      <td>YES</td>\n",
       "      <td>8</td>\n",
       "      <td>0</td>\n",
       "      <td>478.0</td>\n",
       "      <td>NO</td>\n",
       "      <td>...</td>\n",
       "      <td>1</td>\n",
       "      <td>0</td>\n",
       "      <td>0</td>\n",
       "      <td>1</td>\n",
       "      <td>0</td>\n",
       "      <td>1</td>\n",
       "      <td>0</td>\n",
       "      <td>1</td>\n",
       "      <td>0</td>\n",
       "      <td>1</td>\n",
       "    </tr>\n",
       "    <tr>\n",
       "      <th>3</th>\n",
       "      <td>5098</td>\n",
       "      <td>24240</td>\n",
       "      <td>4690.0</td>\n",
       "      <td>110</td>\n",
       "      <td>5</td>\n",
       "      <td>NO</td>\n",
       "      <td>8</td>\n",
       "      <td>0</td>\n",
       "      <td>385.0</td>\n",
       "      <td>NO</td>\n",
       "      <td>...</td>\n",
       "      <td>1</td>\n",
       "      <td>0</td>\n",
       "      <td>0</td>\n",
       "      <td>1</td>\n",
       "      <td>1</td>\n",
       "      <td>0</td>\n",
       "      <td>0</td>\n",
       "      <td>1</td>\n",
       "      <td>0</td>\n",
       "      <td>1</td>\n",
       "    </tr>\n",
       "    <tr>\n",
       "      <th>4</th>\n",
       "      <td>3364</td>\n",
       "      <td>13030</td>\n",
       "      <td>5820.0</td>\n",
       "      <td>110</td>\n",
       "      <td>5</td>\n",
       "      <td>NO</td>\n",
       "      <td>9</td>\n",
       "      <td>0</td>\n",
       "      <td>385.0</td>\n",
       "      <td>YES</td>\n",
       "      <td>...</td>\n",
       "      <td>1</td>\n",
       "      <td>0</td>\n",
       "      <td>1</td>\n",
       "      <td>0</td>\n",
       "      <td>1</td>\n",
       "      <td>0</td>\n",
       "      <td>1</td>\n",
       "      <td>0</td>\n",
       "      <td>0</td>\n",
       "      <td>1</td>\n",
       "    </tr>\n",
       "  </tbody>\n",
       "</table>\n",
       "<p>5 rows × 44 columns</p>\n",
       "</div>"
      ],
      "text/plain": [
       "   car_id  price  Kilometers   hp  Brand Sport  age  Users    gas Metalilic  \\\n",
       "0    3548  48750    109300.0  110      6   YES    7      0  590.0        NO   \n",
       "1     903  16610    109300.0  110      3    NO    8      0  391.0       YES   \n",
       "2    3903  27100      3040.0  110      2   YES    8      0  478.0        NO   \n",
       "3    5098  24240      4690.0  110      5    NO    8      0  385.0        NO   \n",
       "4    3364  13030      5820.0  110      5    NO    9      0  385.0       YES   \n",
       "\n",
       "   ...  Users_0  Users_1  Automatic_NO Automatic_YES red_NO red_YES  \\\n",
       "0  ...        1        0             0             1      1       0   \n",
       "1  ...        1        0             0             1      1       0   \n",
       "2  ...        1        0             0             1      0       1   \n",
       "3  ...        1        0             0             1      1       0   \n",
       "4  ...        1        0             1             0      1       0   \n",
       "\n",
       "   Owner_gender_F  Owner_gender_M  door_2  door_4  \n",
       "0               0               1       0       1  \n",
       "1               1               0       0       1  \n",
       "2               0               1       0       1  \n",
       "3               0               1       0       1  \n",
       "4               1               0       0       1  \n",
       "\n",
       "[5 rows x 44 columns]"
      ]
     },
     "execution_count": 18,
     "metadata": {},
     "output_type": "execute_result"
    }
   ],
   "source": [
    "# Note here i am creating dummy variables for categorical variables\n",
    "Metalilic = 'Metalilic' + '_' + df.Metalilic.astype(str)\n",
    "df_Metalilic = pd.get_dummies(Metalilic)\n",
    "\n",
    "hp = 'hp' + '_' + df.hp.astype(str)\n",
    "df_hp = pd.get_dummies(hp)\n",
    "\n",
    "Brand = 'Brand' + '_' + df.Brand.astype(str)\n",
    "df_Brand = pd.get_dummies(Brand)\n",
    "\n",
    "Sport = 'Sport' + \"_\" + df.Sport.astype(str)\n",
    "df_Sport = pd.get_dummies(Sport)\n",
    "\n",
    "Users = 'Users' + '_' + df.Users.astype(str)\n",
    "df_Users = pd.get_dummies(Users)\n",
    "\n",
    "CC = 'CC' + '_' + df.CC.astype(str)\n",
    "df_CC = pd.get_dummies(CC)\n",
    "\n",
    "Automatic = 'Automatic' + '_' + df.Automatic.astype(str)\n",
    "df_Automatic = pd.get_dummies(Automatic)\n",
    "\n",
    "red = 'red' + '_' + df.red.astype(str)\n",
    "df_red = pd.get_dummies(red)\n",
    "\n",
    "Owner_gender = 'Owner_gender' + '_' + df.Owner_gender.astype(str)\n",
    "df_Owner_gender = pd.get_dummies(Owner_gender)\n",
    "\n",
    "door = 'door' + '_' + df.door.astype(str)\n",
    "df_door = pd.get_dummies(door)\n",
    "\n",
    "# concatnating dummy variables to the dataframe\n",
    "for f in [df_Metalilic, df_hp, df_Brand, df_Sport, df_Users, df_Automatic, df_red, \n",
    "          df_Owner_gender , df_door]:\n",
    "    df = pd.concat([df, f] , axis = 1)\n",
    "    \n",
    "print(df.shape)\n",
    "df.head()"
   ]
  },
  {
   "cell_type": "code",
   "execution_count": null,
   "metadata": {},
   "outputs": [],
   "source": []
  },
  {
   "cell_type": "code",
   "execution_count": 22,
   "metadata": {},
   "outputs": [
    {
     "data": {
      "text/plain": [
       "Index(['car_id', 'price', 'Kilometers', 'hp', 'Brand', 'Sport', 'age', 'Users',\n",
       "       'gas', 'Metalilic', 'CC', 'Weight', 'QuartTax', 'Automatic', 'red',\n",
       "       'Owner_gender', 'door', 'Kilometers_miss_fg', 'gas_miss_fg',\n",
       "       'Weight_miss_fg', 'Metalilic_NO', 'Metalilic_YES', 'hp_110', 'hp_192',\n",
       "       'hp_70', 'hp_90', 'Brand_1', 'Brand_2', 'Brand_3', 'Brand_4', 'Brand_5',\n",
       "       'Brand_6', 'Sport_NO', 'Sport_YES', 'Users_0', 'Users_1',\n",
       "       'Automatic_NO', 'Automatic_YES', 'red_NO', 'red_YES', 'Owner_gender_F',\n",
       "       'Owner_gender_M', 'door_2', 'door_4'],\n",
       "      dtype='object')"
      ]
     },
     "execution_count": 22,
     "metadata": {},
     "output_type": "execute_result"
    }
   ],
   "source": [
    "# Check results - now we have 44 columns in total as to the initial 20\n",
    "df.columns"
   ]
  },
  {
   "cell_type": "code",
   "execution_count": null,
   "metadata": {},
   "outputs": [],
   "source": []
  },
  {
   "cell_type": "markdown",
   "metadata": {},
   "source": [
    "# <a id='7'>Q7) Drop the variables 'Metalilic','hp', 'Brand','Sport', 'Users', 'CC', 'Automatic', 'red','Owner_gender', 'door'   from the data frame 'carprice'<a/>"
   ]
  },
  {
   "cell_type": "markdown",
   "metadata": {},
   "source": [
    "- note since i already created the dummy variables i have to drop the original columns"
   ]
  },
  {
   "cell_type": "code",
   "execution_count": 23,
   "metadata": {},
   "outputs": [],
   "source": [
    "v = ['Metalilic','hp', 'Brand', 'Sport', 'Users', 'CC', 'Automatic', 'red', 'Owner_gender', 'door']\n",
    "df.drop(v, axis = 1, inplace = True)"
   ]
  },
  {
   "cell_type": "code",
   "execution_count": null,
   "metadata": {},
   "outputs": [],
   "source": []
  },
  {
   "cell_type": "markdown",
   "metadata": {},
   "source": [
    "# <a id='7'>Q8) Produce the QQ plot graph to check if the target variable 'price' is normally distributed. In addition ,produce the density graph for the target variable 'price' to confirm the conclusion.<a/>"
   ]
  },
  {
   "cell_type": "code",
   "execution_count": 24,
   "metadata": {},
   "outputs": [
    {
     "data": {
      "image/png": "[encoded data removed]",
      "text/plain": [
       "<Figure size 432x288 with 1 Axes>"
      ]
     },
     "metadata": {
      "needs_background": "light"
     },
     "output_type": "display_data"
    }
   ],
   "source": [
    "import pylab\n",
    "import scipy.stats as stats1\n",
    "\n",
    "Y = df.price\n",
    "stats1.probplot(Y, dist='norm' , plot=pylab)\n",
    "pylab.show()"
   ]
  },
  {
   "cell_type": "markdown",
   "metadata": {},
   "source": [
    "# &#9758; Observation: \n",
    "We can see that after trying to fit the data points with the regression line , we have outliers\n",
    "Which can through off our model so we need to remove the outliers.\n",
    "                "
   ]
  },
  {
   "cell_type": "code",
   "execution_count": null,
   "metadata": {},
   "outputs": [],
   "source": []
  },
  {
   "cell_type": "markdown",
   "metadata": {},
   "source": [
    "# [Checking and dealing with Outliers](#0)"
   ]
  },
  {
   "cell_type": "code",
   "execution_count": 25,
   "metadata": {},
   "outputs": [
    {
     "data": {
      "text/plain": [
       "<matplotlib.axes._subplots.AxesSubplot at 0x1a1ef42668>"
      ]
     },
     "execution_count": 25,
     "metadata": {},
     "output_type": "execute_result"
    },
    {
     "data": {
      "image/png": "[encoded data removed]",
      "text/plain": [
       "<Figure size 432x288 with 1 Axes>"
      ]
     },
     "metadata": {
      "needs_background": "light"
     },
     "output_type": "display_data"
    }
   ],
   "source": [
    "import seaborn as sns\n",
    "sns.distplot(Y)"
   ]
  },
  {
   "cell_type": "code",
   "execution_count": null,
   "metadata": {},
   "outputs": [],
   "source": []
  },
  {
   "cell_type": "markdown",
   "metadata": {},
   "source": [
    "# &#9758; Observation: "
   ]
  },
  {
   "cell_type": "markdown",
   "metadata": {},
   "source": [
    "- We can see that the data is skewed to the right, hence we need to remove the outliers from \n",
    "  around 26000 or 27000."
   ]
  },
  {
   "cell_type": "code",
   "execution_count": null,
   "metadata": {},
   "outputs": [],
   "source": []
  },
  {
   "cell_type": "markdown",
   "metadata": {},
   "source": [
    "# Dealing with Outliers"
   ]
  },
  {
   "cell_type": "code",
   "execution_count": 29,
   "metadata": {},
   "outputs": [
    {
     "name": "stdout",
     "output_type": "stream",
     "text": [
      "The percentile at 2:  7970.0\n",
      "The percentile at 4:  8780.0\n",
      "The percentile at 6:  9362.8\n",
      "The percentile at 8:  9840.0\n",
      "The percentile at 10:  10260.0\n",
      "The percentile at 12:  10570.0\n",
      "The percentile at 14:  10880.0\n",
      "The percentile at 16:  11180.0\n",
      "The percentile at 18:  11470.0\n",
      "The percentile at 20:  11706.0\n",
      "The percentile at 22:  11963.599999999999\n",
      "The percentile at 24:  12170.0\n",
      "The percentile at 26:  12410.0\n",
      "The percentile at 28:  12610.0\n",
      "The percentile at 30:  12880.0\n",
      "The percentile at 32:  13090.0\n",
      "The percentile at 34:  13300.0\n",
      "The percentile at 36:  13480.0\n",
      "The percentile at 38:  13704.400000000001\n",
      "The percentile at 40:  13930.0\n",
      "The percentile at 42:  14130.0\n",
      "The percentile at 44:  14340.0\n",
      "The percentile at 46:  14574.8\n",
      "The percentile at 48:  14770.0\n",
      "The percentile at 50:  14990.0\n",
      "The percentile at 52:  15190.0\n",
      "The percentile at 54:  15380.0\n",
      "The percentile at 56:  15600.0\n",
      "The percentile at 58:  15800.0\n",
      "The percentile at 60:  16040.0\n",
      "The percentile at 62:  16240.0\n",
      "The percentile at 64:  16450.0\n",
      "The percentile at 66:  16660.0\n",
      "The percentile at 68:  16930.0\n",
      "The percentile at 70:  17180.0\n",
      "The percentile at 72:  17490.0\n",
      "The percentile at 74:  17780.0\n",
      "The percentile at 76:  18120.0\n",
      "The percentile at 78:  18426.4\n",
      "The percentile at 80:  18740.0\n",
      "The percentile at 82:  19143.199999999997\n",
      "The percentile at 84:  19620.0\n",
      "The percentile at 86:  20080.0\n",
      "The percentile at 88:  20614.399999999994\n",
      "The percentile at 90:  21434.0\n",
      "The percentile at 92:  22249.6\n",
      "The percentile at 94:  23547.199999999993\n",
      "The percentile at 96:  26921.599999999926\n",
      "The percentile at 98:  45996.39999999998\n"
     ]
    }
   ],
   "source": [
    "# we want to check the outliers and remove them\n",
    "s = list(np.arange(2, 100, 2))\n",
    "for p in s:\n",
    "    print(\"The percentile at \" + str(p) + \": \", np.percentile(Y, p))"
   ]
  },
  {
   "cell_type": "code",
   "execution_count": null,
   "metadata": {},
   "outputs": [],
   "source": []
  },
  {
   "cell_type": "markdown",
   "metadata": {},
   "source": [
    "# &#9758; Observation: \n",
    "- We can see that The percentile at 96 is at 26,9821 and @ 98 is 45996 "
   ]
  },
  {
   "cell_type": "markdown",
   "metadata": {},
   "source": [
    "### [Removing the outliers](#0)"
   ]
  },
  {
   "cell_type": "code",
   "execution_count": 30,
   "metadata": {},
   "outputs": [
    {
     "data": {
      "text/html": [
       "<div>\n",
       "<style scoped>\n",
       "    .dataframe tbody tr th:only-of-type {\n",
       "        vertical-align: middle;\n",
       "    }\n",
       "\n",
       "    .dataframe tbody tr th {\n",
       "        vertical-align: top;\n",
       "    }\n",
       "\n",
       "    .dataframe thead th {\n",
       "        text-align: right;\n",
       "    }\n",
       "</style>\n",
       "<table border=\"1\" class=\"dataframe\">\n",
       "  <thead>\n",
       "    <tr style=\"text-align: right;\">\n",
       "      <th></th>\n",
       "      <th>car_id</th>\n",
       "      <th>price</th>\n",
       "      <th>Kilometers</th>\n",
       "      <th>age</th>\n",
       "      <th>gas</th>\n",
       "      <th>Weight</th>\n",
       "      <th>QuartTax</th>\n",
       "      <th>Kilometers_miss_fg</th>\n",
       "      <th>gas_miss_fg</th>\n",
       "      <th>Weight_miss_fg</th>\n",
       "      <th>...</th>\n",
       "      <th>Users_0</th>\n",
       "      <th>Users_1</th>\n",
       "      <th>Automatic_NO</th>\n",
       "      <th>Automatic_YES</th>\n",
       "      <th>red_NO</th>\n",
       "      <th>red_YES</th>\n",
       "      <th>Owner_gender_F</th>\n",
       "      <th>Owner_gender_M</th>\n",
       "      <th>door_2</th>\n",
       "      <th>door_4</th>\n",
       "    </tr>\n",
       "  </thead>\n",
       "  <tbody>\n",
       "    <tr>\n",
       "      <th>count</th>\n",
       "      <td>5017.000000</td>\n",
       "      <td>5017.000000</td>\n",
       "      <td>5017.000000</td>\n",
       "      <td>5017.000000</td>\n",
       "      <td>5017.000000</td>\n",
       "      <td>5017.000000</td>\n",
       "      <td>5017.000000</td>\n",
       "      <td>5017.000000</td>\n",
       "      <td>5017.000000</td>\n",
       "      <td>5017.000000</td>\n",
       "      <td>...</td>\n",
       "      <td>5017.000000</td>\n",
       "      <td>5017.000000</td>\n",
       "      <td>5017.000000</td>\n",
       "      <td>5017.000000</td>\n",
       "      <td>5017.000000</td>\n",
       "      <td>5017.000000</td>\n",
       "      <td>5017.000000</td>\n",
       "      <td>5017.000000</td>\n",
       "      <td>5017.000000</td>\n",
       "      <td>5017.000000</td>\n",
       "    </tr>\n",
       "    <tr>\n",
       "      <th>mean</th>\n",
       "      <td>2622.945386</td>\n",
       "      <td>14950.219255</td>\n",
       "      <td>113862.892167</td>\n",
       "      <td>27.350010</td>\n",
       "      <td>418.989037</td>\n",
       "      <td>1188.993223</td>\n",
       "      <td>140.645804</td>\n",
       "      <td>0.068966</td>\n",
       "      <td>0.050030</td>\n",
       "      <td>0.110026</td>\n",
       "      <td>...</td>\n",
       "      <td>0.599362</td>\n",
       "      <td>0.400638</td>\n",
       "      <td>0.336855</td>\n",
       "      <td>0.663145</td>\n",
       "      <td>0.823400</td>\n",
       "      <td>0.176600</td>\n",
       "      <td>0.357385</td>\n",
       "      <td>0.642615</td>\n",
       "      <td>0.150488</td>\n",
       "      <td>0.849512</td>\n",
       "    </tr>\n",
       "    <tr>\n",
       "      <th>std</th>\n",
       "      <td>1510.632716</td>\n",
       "      <td>3845.194954</td>\n",
       "      <td>39572.095306</td>\n",
       "      <td>6.265163</td>\n",
       "      <td>97.100144</td>\n",
       "      <td>23.815244</td>\n",
       "      <td>44.880018</td>\n",
       "      <td>0.253421</td>\n",
       "      <td>0.218028</td>\n",
       "      <td>0.312953</td>\n",
       "      <td>...</td>\n",
       "      <td>0.490077</td>\n",
       "      <td>0.490077</td>\n",
       "      <td>0.472682</td>\n",
       "      <td>0.472682</td>\n",
       "      <td>0.381367</td>\n",
       "      <td>0.381367</td>\n",
       "      <td>0.479277</td>\n",
       "      <td>0.479277</td>\n",
       "      <td>0.357585</td>\n",
       "      <td>0.357585</td>\n",
       "    </tr>\n",
       "    <tr>\n",
       "      <th>min</th>\n",
       "      <td>1.000000</td>\n",
       "      <td>3650.000000</td>\n",
       "      <td>4690.000000</td>\n",
       "      <td>8.000000</td>\n",
       "      <td>222.000000</td>\n",
       "      <td>1165.000000</td>\n",
       "      <td>80.000000</td>\n",
       "      <td>0.000000</td>\n",
       "      <td>0.000000</td>\n",
       "      <td>0.000000</td>\n",
       "      <td>...</td>\n",
       "      <td>0.000000</td>\n",
       "      <td>0.000000</td>\n",
       "      <td>0.000000</td>\n",
       "      <td>0.000000</td>\n",
       "      <td>0.000000</td>\n",
       "      <td>0.000000</td>\n",
       "      <td>0.000000</td>\n",
       "      <td>0.000000</td>\n",
       "      <td>0.000000</td>\n",
       "      <td>0.000000</td>\n",
       "    </tr>\n",
       "    <tr>\n",
       "      <th>25%</th>\n",
       "      <td>1319.000000</td>\n",
       "      <td>12160.000000</td>\n",
       "      <td>87640.000000</td>\n",
       "      <td>23.000000</td>\n",
       "      <td>344.000000</td>\n",
       "      <td>1170.000000</td>\n",
       "      <td>100.000000</td>\n",
       "      <td>0.000000</td>\n",
       "      <td>0.000000</td>\n",
       "      <td>0.000000</td>\n",
       "      <td>...</td>\n",
       "      <td>0.000000</td>\n",
       "      <td>0.000000</td>\n",
       "      <td>0.000000</td>\n",
       "      <td>0.000000</td>\n",
       "      <td>1.000000</td>\n",
       "      <td>0.000000</td>\n",
       "      <td>0.000000</td>\n",
       "      <td>0.000000</td>\n",
       "      <td>0.000000</td>\n",
       "      <td>1.000000</td>\n",
       "    </tr>\n",
       "    <tr>\n",
       "      <th>50%</th>\n",
       "      <td>2620.000000</td>\n",
       "      <td>14760.000000</td>\n",
       "      <td>109300.000000</td>\n",
       "      <td>27.000000</td>\n",
       "      <td>385.000000</td>\n",
       "      <td>1186.000000</td>\n",
       "      <td>120.000000</td>\n",
       "      <td>0.000000</td>\n",
       "      <td>0.000000</td>\n",
       "      <td>0.000000</td>\n",
       "      <td>...</td>\n",
       "      <td>1.000000</td>\n",
       "      <td>0.000000</td>\n",
       "      <td>0.000000</td>\n",
       "      <td>1.000000</td>\n",
       "      <td>1.000000</td>\n",
       "      <td>0.000000</td>\n",
       "      <td>0.000000</td>\n",
       "      <td>1.000000</td>\n",
       "      <td>0.000000</td>\n",
       "      <td>1.000000</td>\n",
       "    </tr>\n",
       "    <tr>\n",
       "      <th>75%</th>\n",
       "      <td>3934.000000</td>\n",
       "      <td>17450.000000</td>\n",
       "      <td>135250.000000</td>\n",
       "      <td>32.000000</td>\n",
       "      <td>505.000000</td>\n",
       "      <td>1195.000000</td>\n",
       "      <td>160.000000</td>\n",
       "      <td>0.000000</td>\n",
       "      <td>0.000000</td>\n",
       "      <td>0.000000</td>\n",
       "      <td>...</td>\n",
       "      <td>1.000000</td>\n",
       "      <td>1.000000</td>\n",
       "      <td>1.000000</td>\n",
       "      <td>1.000000</td>\n",
       "      <td>1.000000</td>\n",
       "      <td>0.000000</td>\n",
       "      <td>1.000000</td>\n",
       "      <td>1.000000</td>\n",
       "      <td>0.000000</td>\n",
       "      <td>1.000000</td>\n",
       "    </tr>\n",
       "    <tr>\n",
       "      <th>max</th>\n",
       "      <td>5239.000000</td>\n",
       "      <td>26490.000000</td>\n",
       "      <td>316220.000000</td>\n",
       "      <td>52.000000</td>\n",
       "      <td>764.000000</td>\n",
       "      <td>1250.000000</td>\n",
       "      <td>270.000000</td>\n",
       "      <td>1.000000</td>\n",
       "      <td>1.000000</td>\n",
       "      <td>1.000000</td>\n",
       "      <td>...</td>\n",
       "      <td>1.000000</td>\n",
       "      <td>1.000000</td>\n",
       "      <td>1.000000</td>\n",
       "      <td>1.000000</td>\n",
       "      <td>1.000000</td>\n",
       "      <td>1.000000</td>\n",
       "      <td>1.000000</td>\n",
       "      <td>1.000000</td>\n",
       "      <td>1.000000</td>\n",
       "      <td>1.000000</td>\n",
       "    </tr>\n",
       "  </tbody>\n",
       "</table>\n",
       "<p>8 rows × 34 columns</p>\n",
       "</div>"
      ],
      "text/plain": [
       "            car_id         price     Kilometers          age          gas  \\\n",
       "count  5017.000000   5017.000000    5017.000000  5017.000000  5017.000000   \n",
       "mean   2622.945386  14950.219255  113862.892167    27.350010   418.989037   \n",
       "std    1510.632716   3845.194954   39572.095306     6.265163    97.100144   \n",
       "min       1.000000   3650.000000    4690.000000     8.000000   222.000000   \n",
       "25%    1319.000000  12160.000000   87640.000000    23.000000   344.000000   \n",
       "50%    2620.000000  14760.000000  109300.000000    27.000000   385.000000   \n",
       "75%    3934.000000  17450.000000  135250.000000    32.000000   505.000000   \n",
       "max    5239.000000  26490.000000  316220.000000    52.000000   764.000000   \n",
       "\n",
       "            Weight     QuartTax  Kilometers_miss_fg  gas_miss_fg  \\\n",
       "count  5017.000000  5017.000000         5017.000000  5017.000000   \n",
       "mean   1188.993223   140.645804            0.068966     0.050030   \n",
       "std      23.815244    44.880018            0.253421     0.218028   \n",
       "min    1165.000000    80.000000            0.000000     0.000000   \n",
       "25%    1170.000000   100.000000            0.000000     0.000000   \n",
       "50%    1186.000000   120.000000            0.000000     0.000000   \n",
       "75%    1195.000000   160.000000            0.000000     0.000000   \n",
       "max    1250.000000   270.000000            1.000000     1.000000   \n",
       "\n",
       "       Weight_miss_fg  ...      Users_0      Users_1  Automatic_NO  \\\n",
       "count     5017.000000  ...  5017.000000  5017.000000   5017.000000   \n",
       "mean         0.110026  ...     0.599362     0.400638      0.336855   \n",
       "std          0.312953  ...     0.490077     0.490077      0.472682   \n",
       "min          0.000000  ...     0.000000     0.000000      0.000000   \n",
       "25%          0.000000  ...     0.000000     0.000000      0.000000   \n",
       "50%          0.000000  ...     1.000000     0.000000      0.000000   \n",
       "75%          0.000000  ...     1.000000     1.000000      1.000000   \n",
       "max          1.000000  ...     1.000000     1.000000      1.000000   \n",
       "\n",
       "       Automatic_YES       red_NO      red_YES  Owner_gender_F  \\\n",
       "count    5017.000000  5017.000000  5017.000000     5017.000000   \n",
       "mean        0.663145     0.823400     0.176600        0.357385   \n",
       "std         0.472682     0.381367     0.381367        0.479277   \n",
       "min         0.000000     0.000000     0.000000        0.000000   \n",
       "25%         0.000000     1.000000     0.000000        0.000000   \n",
       "50%         1.000000     1.000000     0.000000        0.000000   \n",
       "75%         1.000000     1.000000     0.000000        1.000000   \n",
       "max         1.000000     1.000000     1.000000        1.000000   \n",
       "\n",
       "       Owner_gender_M       door_2       door_4  \n",
       "count     5017.000000  5017.000000  5017.000000  \n",
       "mean         0.642615     0.150488     0.849512  \n",
       "std          0.479277     0.357585     0.357585  \n",
       "min          0.000000     0.000000     0.000000  \n",
       "25%          0.000000     0.000000     1.000000  \n",
       "50%          1.000000     0.000000     1.000000  \n",
       "75%          1.000000     0.000000     1.000000  \n",
       "max          1.000000     1.000000     1.000000  \n",
       "\n",
       "[8 rows x 34 columns]"
      ]
     },
     "execution_count": 30,
     "metadata": {},
     "output_type": "execute_result"
    }
   ],
   "source": [
    "df = df[df['price'] < 26500]\n",
    "df.describe(include = 'all')"
   ]
  },
  {
   "cell_type": "code",
   "execution_count": null,
   "metadata": {},
   "outputs": [],
   "source": []
  },
  {
   "cell_type": "code",
   "execution_count": 32,
   "metadata": {},
   "outputs": [],
   "source": [
    "# resetting my target variable as Y\n",
    "Y = df['price']"
   ]
  },
  {
   "cell_type": "code",
   "execution_count": 33,
   "metadata": {},
   "outputs": [
    {
     "data": {
      "text/plain": [
       "<matplotlib.axes._subplots.AxesSubplot at 0x1a1f791898>"
      ]
     },
     "execution_count": 33,
     "metadata": {},
     "output_type": "execute_result"
    },
    {
     "data": {
      "image/png": "[encoded data removed]",
      "text/plain": [
       "<Figure size 432x288 with 1 Axes>"
      ]
     },
     "metadata": {
      "needs_background": "light"
     },
     "output_type": "display_data"
    }
   ],
   "source": [
    "# Checking results\n",
    "sns.distplot(Y)"
   ]
  },
  {
   "cell_type": "code",
   "execution_count": null,
   "metadata": {},
   "outputs": [],
   "source": []
  },
  {
   "cell_type": "markdown",
   "metadata": {},
   "source": [
    "# &#9758; Observation: \n",
    "- Now we can see the data is has a Normal Distribution"
   ]
  },
  {
   "cell_type": "code",
   "execution_count": null,
   "metadata": {},
   "outputs": [],
   "source": []
  },
  {
   "cell_type": "markdown",
   "metadata": {},
   "source": [
    "# Rechecking our best fit line "
   ]
  },
  {
   "cell_type": "code",
   "execution_count": 34,
   "metadata": {},
   "outputs": [
    {
     "data": {
      "image/png": "[encoded data removed]",
      "text/plain": [
       "<Figure size 432x288 with 1 Axes>"
      ]
     },
     "metadata": {
      "needs_background": "light"
     },
     "output_type": "display_data"
    }
   ],
   "source": [
    "Y = df.price\n",
    "stats1.probplot(Y, dist='norm', plot=pylab)\n",
    "pylab.show()"
   ]
  },
  {
   "cell_type": "code",
   "execution_count": null,
   "metadata": {},
   "outputs": [],
   "source": []
  },
  {
   "cell_type": "markdown",
   "metadata": {},
   "source": [
    "# <a id='7'>Q9) Check the correlation between each independent variable (after data cleaning) and the target variable 'price', and rank the absolute value of the Pearson correlation coefficients in descending order<a/>"
   ]
  },
  {
   "cell_type": "code",
   "execution_count": 35,
   "metadata": {},
   "outputs": [
    {
     "data": {
      "text/plain": [
       "['Kilometers',\n",
       " 'age',\n",
       " 'gas',\n",
       " 'Weight',\n",
       " 'QuartTax',\n",
       " 'Kilometers_miss_fg',\n",
       " 'gas_miss_fg',\n",
       " 'Weight_miss_fg',\n",
       " 'Metalilic_NO',\n",
       " 'Metalilic_YES',\n",
       " 'hp_110',\n",
       " 'hp_192',\n",
       " 'hp_70',\n",
       " 'hp_90',\n",
       " 'Brand_1',\n",
       " 'Brand_2',\n",
       " 'Brand_3',\n",
       " 'Brand_4',\n",
       " 'Brand_5',\n",
       " 'Brand_6',\n",
       " 'Sport_NO',\n",
       " 'Sport_YES',\n",
       " 'Users_0',\n",
       " 'Users_1',\n",
       " 'Automatic_NO',\n",
       " 'Automatic_YES',\n",
       " 'red_NO',\n",
       " 'red_YES',\n",
       " 'Owner_gender_F',\n",
       " 'Owner_gender_M',\n",
       " 'door_2',\n",
       " 'door_4']"
      ]
     },
     "execution_count": 35,
     "metadata": {},
     "output_type": "execute_result"
    }
   ],
   "source": [
    "varnamelist = list(df.columns)\n",
    "varnamelist.remove('price')\n",
    "varnamelist.remove('car_id')\n",
    "varnamelist"
   ]
  },
  {
   "cell_type": "code",
   "execution_count": null,
   "metadata": {},
   "outputs": [],
   "source": []
  },
  {
   "cell_type": "code",
   "execution_count": 36,
   "metadata": {},
   "outputs": [
    {
     "data": {
      "text/html": [
       "<div>\n",
       "<style scoped>\n",
       "    .dataframe tbody tr th:only-of-type {\n",
       "        vertical-align: middle;\n",
       "    }\n",
       "\n",
       "    .dataframe tbody tr th {\n",
       "        vertical-align: top;\n",
       "    }\n",
       "\n",
       "    .dataframe thead th {\n",
       "        text-align: right;\n",
       "    }\n",
       "</style>\n",
       "<table border=\"1\" class=\"dataframe\">\n",
       "  <thead>\n",
       "    <tr style=\"text-align: right;\">\n",
       "      <th></th>\n",
       "      <th>varname</th>\n",
       "      <th>correlation</th>\n",
       "      <th>abscorr</th>\n",
       "      <th>order</th>\n",
       "    </tr>\n",
       "  </thead>\n",
       "  <tbody>\n",
       "    <tr>\n",
       "      <th>25</th>\n",
       "      <td>Automatic_YES</td>\n",
       "      <td>0.726</td>\n",
       "      <td>0.726</td>\n",
       "      <td>1</td>\n",
       "    </tr>\n",
       "    <tr>\n",
       "      <th>24</th>\n",
       "      <td>Automatic_NO</td>\n",
       "      <td>-0.726</td>\n",
       "      <td>0.726</td>\n",
       "      <td>2</td>\n",
       "    </tr>\n",
       "    <tr>\n",
       "      <th>11</th>\n",
       "      <td>hp_192</td>\n",
       "      <td>0.260</td>\n",
       "      <td>0.260</td>\n",
       "      <td>3</td>\n",
       "    </tr>\n",
       "    <tr>\n",
       "      <th>1</th>\n",
       "      <td>age</td>\n",
       "      <td>-0.234</td>\n",
       "      <td>0.234</td>\n",
       "      <td>4</td>\n",
       "    </tr>\n",
       "    <tr>\n",
       "      <th>0</th>\n",
       "      <td>Kilometers</td>\n",
       "      <td>-0.185</td>\n",
       "      <td>0.185</td>\n",
       "      <td>5</td>\n",
       "    </tr>\n",
       "    <tr>\n",
       "      <th>5</th>\n",
       "      <td>Kilometers_miss_fg</td>\n",
       "      <td>-0.169</td>\n",
       "      <td>0.169</td>\n",
       "      <td>6</td>\n",
       "    </tr>\n",
       "    <tr>\n",
       "      <th>14</th>\n",
       "      <td>Brand_1</td>\n",
       "      <td>-0.162</td>\n",
       "      <td>0.162</td>\n",
       "      <td>7</td>\n",
       "    </tr>\n",
       "    <tr>\n",
       "      <th>19</th>\n",
       "      <td>Brand_6</td>\n",
       "      <td>0.155</td>\n",
       "      <td>0.155</td>\n",
       "      <td>8</td>\n",
       "    </tr>\n",
       "    <tr>\n",
       "      <th>13</th>\n",
       "      <td>hp_90</td>\n",
       "      <td>-0.148</td>\n",
       "      <td>0.148</td>\n",
       "      <td>9</td>\n",
       "    </tr>\n",
       "    <tr>\n",
       "      <th>12</th>\n",
       "      <td>hp_70</td>\n",
       "      <td>-0.100</td>\n",
       "      <td>0.100</td>\n",
       "      <td>10</td>\n",
       "    </tr>\n",
       "    <tr>\n",
       "      <th>15</th>\n",
       "      <td>Brand_2</td>\n",
       "      <td>-0.099</td>\n",
       "      <td>0.099</td>\n",
       "      <td>11</td>\n",
       "    </tr>\n",
       "    <tr>\n",
       "      <th>18</th>\n",
       "      <td>Brand_5</td>\n",
       "      <td>0.093</td>\n",
       "      <td>0.093</td>\n",
       "      <td>12</td>\n",
       "    </tr>\n",
       "    <tr>\n",
       "      <th>10</th>\n",
       "      <td>hp_110</td>\n",
       "      <td>-0.056</td>\n",
       "      <td>0.056</td>\n",
       "      <td>13</td>\n",
       "    </tr>\n",
       "    <tr>\n",
       "      <th>23</th>\n",
       "      <td>Users_1</td>\n",
       "      <td>-0.046</td>\n",
       "      <td>0.046</td>\n",
       "      <td>14</td>\n",
       "    </tr>\n",
       "    <tr>\n",
       "      <th>22</th>\n",
       "      <td>Users_0</td>\n",
       "      <td>0.046</td>\n",
       "      <td>0.046</td>\n",
       "      <td>15</td>\n",
       "    </tr>\n",
       "    <tr>\n",
       "      <th>17</th>\n",
       "      <td>Brand_4</td>\n",
       "      <td>0.038</td>\n",
       "      <td>0.038</td>\n",
       "      <td>16</td>\n",
       "    </tr>\n",
       "    <tr>\n",
       "      <th>16</th>\n",
       "      <td>Brand_3</td>\n",
       "      <td>-0.033</td>\n",
       "      <td>0.033</td>\n",
       "      <td>17</td>\n",
       "    </tr>\n",
       "    <tr>\n",
       "      <th>7</th>\n",
       "      <td>Weight_miss_fg</td>\n",
       "      <td>-0.031</td>\n",
       "      <td>0.031</td>\n",
       "      <td>18</td>\n",
       "    </tr>\n",
       "    <tr>\n",
       "      <th>30</th>\n",
       "      <td>door_2</td>\n",
       "      <td>0.012</td>\n",
       "      <td>0.012</td>\n",
       "      <td>19</td>\n",
       "    </tr>\n",
       "    <tr>\n",
       "      <th>31</th>\n",
       "      <td>door_4</td>\n",
       "      <td>-0.012</td>\n",
       "      <td>0.012</td>\n",
       "      <td>20</td>\n",
       "    </tr>\n",
       "  </tbody>\n",
       "</table>\n",
       "</div>"
      ],
      "text/plain": [
       "               varname  correlation  abscorr  order\n",
       "25       Automatic_YES        0.726    0.726      1\n",
       "24        Automatic_NO       -0.726    0.726      2\n",
       "11              hp_192        0.260    0.260      3\n",
       "1                  age       -0.234    0.234      4\n",
       "0           Kilometers       -0.185    0.185      5\n",
       "5   Kilometers_miss_fg       -0.169    0.169      6\n",
       "14             Brand_1       -0.162    0.162      7\n",
       "19             Brand_6        0.155    0.155      8\n",
       "13               hp_90       -0.148    0.148      9\n",
       "12               hp_70       -0.100    0.100     10\n",
       "15             Brand_2       -0.099    0.099     11\n",
       "18             Brand_5        0.093    0.093     12\n",
       "10              hp_110       -0.056    0.056     13\n",
       "23             Users_1       -0.046    0.046     14\n",
       "22             Users_0        0.046    0.046     15\n",
       "17             Brand_4        0.038    0.038     16\n",
       "16             Brand_3       -0.033    0.033     17\n",
       "7       Weight_miss_fg       -0.031    0.031     18\n",
       "30              door_2        0.012    0.012     19\n",
       "31              door_4       -0.012    0.012     20"
      ]
     },
     "execution_count": 36,
     "metadata": {},
     "output_type": "execute_result"
    }
   ],
   "source": [
    "corr = []\n",
    "for vname in varnamelist:\n",
    "    X=df[vname]  # loop through all variables in the dataframe\n",
    "    C = np.corrcoef(X, Y) # calculate correlation matrix\n",
    "    beta=np.round(C[1, 0],3)\n",
    "    corr=corr+[beta] \n",
    "\n",
    "corrdf=pd.DataFrame({'varname': varnamelist , 'correlation': corr})\n",
    "corrdf['abscorr']=np.abs(corrdf['correlation'])\n",
    "# sort absoluted correlation in descending order\n",
    "corrdf.sort_values(by = ['abscorr'] , ascending =False , inplace=True)\n",
    "seq=range(1,len(corrdf)+1)\n",
    "corrdf['order']=seq\n",
    "corrdf.head(20)"
   ]
  },
  {
   "cell_type": "code",
   "execution_count": null,
   "metadata": {},
   "outputs": [],
   "source": []
  },
  {
   "cell_type": "markdown",
   "metadata": {},
   "source": [
    "# <a id='7'>Q10) Choose the top 20 variables based on the correlation coefficients above, transform the data with the range standardization and put them into the linear regression model with LASO to select final candidates<a/>"
   ]
  },
  {
   "cell_type": "code",
   "execution_count": null,
   "metadata": {},
   "outputs": [],
   "source": []
  },
  {
   "cell_type": "markdown",
   "metadata": {},
   "source": [
    "# &#9758; Lasso: \n",
    "- Lasso is a regulation method that penalizes the absolute variables of the regression\n",
    " coefficients of the model and allows them to reach zero. It is used for feature selection.\n",
    " \n",
    "\n",
    "# <a id=\"17\">Lasso Regression<a/>\n",
    "Lasso regression is called **L1 regularization** and it is defined as\n",
    "\n",
    "$$RSS_{LASSO} = \\sum_{i=1}^{m}(h_{\\theta}(x_{i})-y_{i})^{2} + \\alpha \\sum_{j=1}^{n}|\\theta_{j}|$$\n",
    "\n",
    "The main difference between ridge and lasso is the penalty but $\\alpha$ works the same way.   \n",
    "\n",
    "### Feature Selection with sklearn's LassoLarsIC( )\n",
    "To eliminate relatively unimpactful features, we implement Lasso (L1) regression with the LARS algorithm for determing a best lambda (i.e. regularization rate) with BIC (Bayesian Information Criterion) as the criterion to optimize (i.e. minimize). A custom function can created to return the coefficients as a dataframe and remaining features as a list after fitting sklearn's LassoLarsIC() function with the data.   \n",
    "  \n",
    "\n",
    "[LassoLarsIC Documentation](https://scikit-learn.org/stable/modules/generated/sklearn.linear_model.LassoLarsIC.html)"
   ]
  },
  {
   "cell_type": "code",
   "execution_count": null,
   "metadata": {},
   "outputs": [],
   "source": []
  },
  {
   "cell_type": "code",
   "execution_count": 38,
   "metadata": {},
   "outputs": [
    {
     "name": "stdout",
     "output_type": "stream",
     "text": [
      "the coefficients [ 6.28614452e+03 -1.14222897e-13  2.49143565e+03 -7.88610319e+03\n",
      " -4.41593925e+02 -2.84206704e+03 -2.09027540e+03  1.79986179e+03\n",
      " -3.68003926e+02 -8.55923626e+02 -1.38158361e+03  9.70557782e+02\n",
      "  1.61676829e+02 -4.64232902e+01  1.26453135e-14  2.40961212e+02\n",
      " -5.98629463e+02 -9.07797771e+01  4.80701421e+01 -8.33089668e-14]\n",
      "----------------------------------\n",
      "14083.413598074969\n"
     ]
    }
   ],
   "source": [
    "selev = list(corrdf.varname[:20])\n",
    "X=df[selev]\n",
    "min_max_scaler = preprocessing.MinMaxScaler()\n",
    "X_train_minmax = min_max_scaler.fit_transform(X)\n",
    "\n",
    "from sklearn import linear_model\n",
    "clf = linear_model.Lasso(alpha=0.1)\n",
    "\n",
    "clf.fit(X_train_minmax, Y)\n",
    "coef = clf.coef_\n",
    "print('the coefficients' , clf.coef_)\n",
    "print(\"----------------------------------\")\n",
    "print(clf.intercept_)"
   ]
  },
  {
   "cell_type": "code",
   "execution_count": null,
   "metadata": {},
   "outputs": [],
   "source": []
  },
  {
   "cell_type": "markdown",
   "metadata": {},
   "source": [
    "# <a id='7'>Q11) Based on the percentiles of the coefficients selected from LASO, use a threshold to choose a set of features<a/>"
   ]
  },
  {
   "cell_type": "code",
   "execution_count": 40,
   "metadata": {},
   "outputs": [
    {
     "name": "stdout",
     "output_type": "stream",
     "text": [
      "I have selected 17 variables based on LASO, their indices are \n",
      "\n"
     ]
    },
    {
     "data": {
      "text/plain": [
       "['Automatic_YES',\n",
       " 'hp_192',\n",
       " 'age',\n",
       " 'Kilometers',\n",
       " 'Kilometers_miss_fg',\n",
       " 'Brand_1',\n",
       " 'Brand_6',\n",
       " 'hp_90',\n",
       " 'hp_70',\n",
       " 'Brand_2',\n",
       " 'Brand_5',\n",
       " 'hp_110',\n",
       " 'Users_1',\n",
       " 'Brand_4',\n",
       " 'Brand_3',\n",
       " 'Weight_miss_fg',\n",
       " 'door_2']"
      ]
     },
     "execution_count": 40,
     "metadata": {},
     "output_type": "execute_result"
    }
   ],
   "source": [
    "abs_coef = np.abs(clf.coef_)\n",
    "\n",
    "L = len(list(clf.coef_))\n",
    "chosen_vars = [selev[j] for j in range(L) if abs_coef[j] > 1]\n",
    "\n",
    "print(\"I have selected \" + str(len(chosen_vars)) + ' variables based on LASO, their indices are \\n')\n",
    "chosen_vars      "
   ]
  },
  {
   "cell_type": "code",
   "execution_count": null,
   "metadata": {},
   "outputs": [],
   "source": []
  },
  {
   "cell_type": "markdown",
   "metadata": {},
   "source": [
    "# <a id='7'>Q12) Create a data frame that contains the only variables selected from the LASO above<a/>"
   ]
  },
  {
   "cell_type": "code",
   "execution_count": 41,
   "metadata": {},
   "outputs": [
    {
     "name": "stdout",
     "output_type": "stream",
     "text": [
      "(5017, 18)\n"
     ]
    },
    {
     "data": {
      "text/html": [
       "<div>\n",
       "<style scoped>\n",
       "    .dataframe tbody tr th:only-of-type {\n",
       "        vertical-align: middle;\n",
       "    }\n",
       "\n",
       "    .dataframe tbody tr th {\n",
       "        vertical-align: top;\n",
       "    }\n",
       "\n",
       "    .dataframe thead th {\n",
       "        text-align: right;\n",
       "    }\n",
       "</style>\n",
       "<table border=\"1\" class=\"dataframe\">\n",
       "  <thead>\n",
       "    <tr style=\"text-align: right;\">\n",
       "      <th></th>\n",
       "      <th>Automatic_YES</th>\n",
       "      <th>hp_192</th>\n",
       "      <th>age</th>\n",
       "      <th>Kilometers</th>\n",
       "      <th>Kilometers_miss_fg</th>\n",
       "      <th>Brand_1</th>\n",
       "      <th>Brand_6</th>\n",
       "      <th>hp_90</th>\n",
       "      <th>hp_70</th>\n",
       "      <th>Brand_2</th>\n",
       "      <th>Brand_5</th>\n",
       "      <th>hp_110</th>\n",
       "      <th>Users_1</th>\n",
       "      <th>Brand_4</th>\n",
       "      <th>Brand_3</th>\n",
       "      <th>Weight_miss_fg</th>\n",
       "      <th>door_2</th>\n",
       "      <th>price</th>\n",
       "    </tr>\n",
       "  </thead>\n",
       "  <tbody>\n",
       "    <tr>\n",
       "      <th>1</th>\n",
       "      <td>1</td>\n",
       "      <td>0</td>\n",
       "      <td>8</td>\n",
       "      <td>109300.0</td>\n",
       "      <td>1</td>\n",
       "      <td>0</td>\n",
       "      <td>0</td>\n",
       "      <td>0</td>\n",
       "      <td>0</td>\n",
       "      <td>0</td>\n",
       "      <td>0</td>\n",
       "      <td>1</td>\n",
       "      <td>0</td>\n",
       "      <td>0</td>\n",
       "      <td>1</td>\n",
       "      <td>0</td>\n",
       "      <td>0</td>\n",
       "      <td>16610</td>\n",
       "    </tr>\n",
       "    <tr>\n",
       "      <th>3</th>\n",
       "      <td>1</td>\n",
       "      <td>0</td>\n",
       "      <td>8</td>\n",
       "      <td>4690.0</td>\n",
       "      <td>0</td>\n",
       "      <td>0</td>\n",
       "      <td>0</td>\n",
       "      <td>0</td>\n",
       "      <td>0</td>\n",
       "      <td>0</td>\n",
       "      <td>1</td>\n",
       "      <td>1</td>\n",
       "      <td>0</td>\n",
       "      <td>0</td>\n",
       "      <td>0</td>\n",
       "      <td>0</td>\n",
       "      <td>0</td>\n",
       "      <td>24240</td>\n",
       "    </tr>\n",
       "    <tr>\n",
       "      <th>4</th>\n",
       "      <td>0</td>\n",
       "      <td>0</td>\n",
       "      <td>9</td>\n",
       "      <td>5820.0</td>\n",
       "      <td>0</td>\n",
       "      <td>0</td>\n",
       "      <td>0</td>\n",
       "      <td>0</td>\n",
       "      <td>0</td>\n",
       "      <td>0</td>\n",
       "      <td>1</td>\n",
       "      <td>1</td>\n",
       "      <td>0</td>\n",
       "      <td>0</td>\n",
       "      <td>0</td>\n",
       "      <td>0</td>\n",
       "      <td>0</td>\n",
       "      <td>13030</td>\n",
       "    </tr>\n",
       "    <tr>\n",
       "      <th>5</th>\n",
       "      <td>0</td>\n",
       "      <td>0</td>\n",
       "      <td>9</td>\n",
       "      <td>106710.0</td>\n",
       "      <td>0</td>\n",
       "      <td>0</td>\n",
       "      <td>1</td>\n",
       "      <td>0</td>\n",
       "      <td>0</td>\n",
       "      <td>0</td>\n",
       "      <td>0</td>\n",
       "      <td>1</td>\n",
       "      <td>0</td>\n",
       "      <td>0</td>\n",
       "      <td>0</td>\n",
       "      <td>0</td>\n",
       "      <td>0</td>\n",
       "      <td>13940</td>\n",
       "    </tr>\n",
       "    <tr>\n",
       "      <th>6</th>\n",
       "      <td>1</td>\n",
       "      <td>0</td>\n",
       "      <td>9</td>\n",
       "      <td>8610.0</td>\n",
       "      <td>0</td>\n",
       "      <td>0</td>\n",
       "      <td>0</td>\n",
       "      <td>0</td>\n",
       "      <td>0</td>\n",
       "      <td>0</td>\n",
       "      <td>0</td>\n",
       "      <td>1</td>\n",
       "      <td>0</td>\n",
       "      <td>1</td>\n",
       "      <td>0</td>\n",
       "      <td>0</td>\n",
       "      <td>0</td>\n",
       "      <td>22190</td>\n",
       "    </tr>\n",
       "  </tbody>\n",
       "</table>\n",
       "</div>"
      ],
      "text/plain": [
       "   Automatic_YES  hp_192  age  Kilometers  Kilometers_miss_fg  Brand_1  \\\n",
       "1              1       0    8    109300.0                   1        0   \n",
       "3              1       0    8      4690.0                   0        0   \n",
       "4              0       0    9      5820.0                   0        0   \n",
       "5              0       0    9    106710.0                   0        0   \n",
       "6              1       0    9      8610.0                   0        0   \n",
       "\n",
       "   Brand_6  hp_90  hp_70  Brand_2  Brand_5  hp_110  Users_1  Brand_4  Brand_3  \\\n",
       "1        0      0      0        0        0       1        0        0        1   \n",
       "3        0      0      0        0        1       1        0        0        0   \n",
       "4        0      0      0        0        1       1        0        0        0   \n",
       "5        1      0      0        0        0       1        0        0        0   \n",
       "6        0      0      0        0        0       1        0        1        0   \n",
       "\n",
       "   Weight_miss_fg  door_2  price  \n",
       "1               0       0  16610  \n",
       "3               0       0  24240  \n",
       "4               0       0  13030  \n",
       "5               0       0  13940  \n",
       "6               0       0  22190  "
      ]
     },
     "execution_count": 41,
     "metadata": {},
     "output_type": "execute_result"
    }
   ],
   "source": [
    "# get the Dataframe with the chosen variables with Lasso\n",
    "chosen_vars.extend(['price'])\n",
    "selected_cars_df = df[chosen_vars]\n",
    "print(selected_cars_df.shape)\n",
    "selected_cars_df.head()"
   ]
  },
  {
   "cell_type": "code",
   "execution_count": null,
   "metadata": {},
   "outputs": [],
   "source": []
  },
  {
   "cell_type": "code",
   "execution_count": 42,
   "metadata": {},
   "outputs": [
    {
     "data": {
      "text/plain": [
       "Index(['Automatic_YES', 'hp_192', 'age', 'Kilometers', 'Kilometers_miss_fg',\n",
       "       'Brand_1', 'Brand_6', 'hp_90', 'hp_70', 'Brand_2', 'Brand_5', 'hp_110',\n",
       "       'Users_1', 'Brand_4', 'Brand_3', 'Weight_miss_fg', 'door_2', 'price'],\n",
       "      dtype='object')"
      ]
     },
     "execution_count": 42,
     "metadata": {},
     "output_type": "execute_result"
    }
   ],
   "source": [
    "selected_cars_df.columns"
   ]
  },
  {
   "cell_type": "code",
   "execution_count": null,
   "metadata": {},
   "outputs": [],
   "source": []
  },
  {
   "cell_type": "markdown",
   "metadata": {},
   "source": [
    "# <a id='7'>Q13) Apply the OLS package fit the model (or ANOVA) to observe p values and coefficients<a/>"
   ]
  },
  {
   "cell_type": "code",
   "execution_count": 45,
   "metadata": {},
   "outputs": [
    {
     "name": "stdout",
     "output_type": "stream",
     "text": [
      "                            OLS Regression Results                            \n",
      "==============================================================================\n",
      "Dep. Variable:                  price   R-squared:                       0.833\n",
      "Model:                            OLS   Adj. R-squared:                  0.832\n",
      "Method:                 Least Squares   F-statistic:                     1659.\n",
      "Date:                Wed, 10 Jun 2020   Prob (F-statistic):               0.00\n",
      "Time:                        21:58:10   Log-Likelihood:                -44046.\n",
      "No. Observations:                5017   AIC:                         8.812e+04\n",
      "Df Residuals:                    5001   BIC:                         8.823e+04\n",
      "Df Model:                          15                                         \n",
      "Covariance Type:            nonrobust                                         \n",
      "======================================================================================\n",
      "                         coef    std err          t      P>|t|      [0.025      0.975]\n",
      "--------------------------------------------------------------------------------------\n",
      "Intercept           1.109e+04     75.643    146.571      0.000    1.09e+04    1.12e+04\n",
      "Automatic_YES       6286.7663     47.260    133.024      0.000    6194.115    6379.417\n",
      "hp_192              4906.5436     41.454    118.362      0.000    4825.276    4987.811\n",
      "age                 -179.2362      5.804    -30.883      0.000    -190.614    -167.858\n",
      "Kilometers            -0.0014      0.001     -1.605      0.109      -0.003       0.000\n",
      "Kilometers_miss_fg -2843.6965     88.039    -32.300      0.000   -3016.292   -2671.101\n",
      "Brand_1              -66.7205     55.927     -1.193      0.233    -176.362      42.921\n",
      "Brand_6             3825.2231     59.249     64.562      0.000    3709.070    3941.376\n",
      "hp_90               2046.2900     41.996     48.726      0.000    1963.960    2128.620\n",
      "hp_70               1557.5374     63.481     24.536      0.000    1433.087    1681.988\n",
      "Brand_2              641.9734     54.851     11.704      0.000     534.440     749.506\n",
      "Brand_5             2995.5903     51.099     58.623      0.000    2895.413    3095.768\n",
      "hp_110              2576.6645     41.955     61.415      0.000    2494.414    2658.915\n",
      "Users_1              -46.9426     53.406     -0.879      0.379    -151.643      57.758\n",
      "Brand_4             2265.8139     43.313     52.313      0.000    2180.902    2350.726\n",
      "Brand_3             1425.1552     52.235     27.284      0.000    1322.752    1527.559\n",
      "Weight_miss_fg       -91.6996     71.179     -1.288      0.198    -231.241      47.842\n",
      "door_2                49.0483     70.418      0.697      0.486     -89.002     187.099\n",
      "==============================================================================\n",
      "Omnibus:                      584.618   Durbin-Watson:                   1.977\n",
      "Prob(Omnibus):                  0.000   Jarque-Bera (JB):             1016.201\n",
      "Skew:                           0.789   Prob(JB):                    2.16e-221\n",
      "Kurtosis:                       4.540   Cond. No.                     1.32e+21\n",
      "==============================================================================\n",
      "\n",
      "Warnings:\n",
      "[1] Standard Errors assume that the covariance matrix of the errors is correctly specified.\n",
      "[2] The smallest eigenvalue is 4.2e-29. This might indicate that there are\n",
      "strong multicollinearity problems or that the design matrix is singular.\n"
     ]
    }
   ],
   "source": [
    "from statsmodels.formula.api import ols\n",
    "model = ols('price ~ Automatic_YES + hp_192 + age + Kilometers + Kilometers_miss_fg + \\\n",
    "       Brand_1 + Brand_6 + hp_90 + hp_70 + Brand_2 + Brand_5 + hp_110 + \\\n",
    "       Users_1 + Brand_4 + Brand_3 + Weight_miss_fg + door_2' , selected_cars_df).fit()\n",
    "\n",
    "print(model.summary())"
   ]
  },
  {
   "cell_type": "code",
   "execution_count": null,
   "metadata": {},
   "outputs": [],
   "source": []
  },
  {
   "cell_type": "markdown",
   "metadata": {},
   "source": [
    "# &#9758; Observation: \n",
    "- Though we have a high r2 of 0.833 we need to pay close attention to the p-values and remove\n",
    " some feautures"
   ]
  },
  {
   "cell_type": "code",
   "execution_count": null,
   "metadata": {},
   "outputs": [],
   "source": []
  },
  {
   "cell_type": "markdown",
   "metadata": {},
   "source": [
    "# <a id='7'>Q14) Based on the p values above, we need to select the final key drivers. Use the OLS again to fit the linear regression model. Observe p values and coefficients and finally check the F statistics and R square values<a/>"
   ]
  },
  {
   "cell_type": "code",
   "execution_count": 47,
   "metadata": {},
   "outputs": [
    {
     "name": "stdout",
     "output_type": "stream",
     "text": [
      "                            OLS Regression Results                            \n",
      "==============================================================================\n",
      "Dep. Variable:                  price   R-squared:                       0.798\n",
      "Model:                            OLS   Adj. R-squared:                  0.797\n",
      "Method:                 Least Squares   F-statistic:                     1973.\n",
      "Date:                Wed, 10 Jun 2020   Prob (F-statistic):               0.00\n",
      "Time:                        22:04:21   Log-Likelihood:                -44523.\n",
      "No. Observations:                5017   AIC:                         8.907e+04\n",
      "Df Residuals:                    5006   BIC:                         8.914e+04\n",
      "Df Model:                          10                                         \n",
      "Covariance Type:            nonrobust                                         \n",
      "=================================================================================\n",
      "                    coef    std err          t      P>|t|      [0.025      0.975]\n",
      "---------------------------------------------------------------------------------\n",
      "Intercept      1.211e+04    101.634    119.173      0.000    1.19e+04    1.23e+04\n",
      "Automatic_YES  6255.2070     51.925    120.465      0.000    6153.411    6357.003\n",
      "hp_192         5160.1099     47.648    108.297      0.000    5066.699    5253.521\n",
      "age            -187.9444      3.919    -47.953      0.000    -195.628    -180.261\n",
      "Brand_1       -1435.8624     90.044    -15.946      0.000   -1612.388   -1259.337\n",
      "Brand_6        2426.3098     93.159     26.045      0.000    2243.678    2608.942\n",
      "hp_90          2293.8873     48.003     47.787      0.000    2199.781    2387.994\n",
      "hp_70          1789.0087     71.705     24.950      0.000    1648.436    1929.581\n",
      "Brand_5        1567.0087     84.761     18.487      0.000    1400.839    1733.178\n",
      "Brand_2        -769.3547     89.153     -8.630      0.000    -944.133    -594.576\n",
      "hp_110         2869.0280     48.265     59.443      0.000    2774.408    2963.648\n",
      "Brand_4         857.7912     77.006     11.139      0.000     706.825    1008.757\n",
      "==============================================================================\n",
      "Omnibus:                      269.113   Durbin-Watson:                   1.972\n",
      "Prob(Omnibus):                  0.000   Jarque-Bera (JB):              502.394\n",
      "Skew:                           0.401   Prob(JB):                    8.06e-110\n",
      "Kurtosis:                       4.326   Cond. No.                     7.97e+16\n",
      "==============================================================================\n",
      "\n",
      "Warnings:\n",
      "[1] Standard Errors assume that the covariance matrix of the errors is correctly specified.\n",
      "[2] The smallest eigenvalue is 6.23e-28. This might indicate that there are\n",
      "strong multicollinearity problems or that the design matrix is singular.\n"
     ]
    }
   ],
   "source": [
    "model_2 = ols('price ~ Automatic_YES + hp_192 + age + Brand_1 + Brand_6 + \\\n",
    "hp_90 + hp_70 + Brand_5 + Brand_2 + hp_110 +  Brand_4', selected_cars_df).fit()\n",
    "\n",
    "print(model_2.summary()) "
   ]
  },
  {
   "cell_type": "code",
   "execution_count": null,
   "metadata": {},
   "outputs": [],
   "source": []
  },
  {
   "cell_type": "markdown",
   "metadata": {},
   "source": [
    "# &#9758; Observation: \n",
    "- Base on the p-values i removed some of the features which led to a slight reduction of my r2"
   ]
  },
  {
   "cell_type": "code",
   "execution_count": null,
   "metadata": {},
   "outputs": [],
   "source": []
  },
  {
   "cell_type": "markdown",
   "metadata": {},
   "source": [
    "# <a id='7'>Q15) Conduct model prediction to predict car prices in the training data set. Find prediction errors of all observations in the training data.Calculate MSE, SST, MSE and F statistics values, and compare these results with the previous outputs from the OLS package<a/>"
   ]
  },
  {
   "cell_type": "code",
   "execution_count": 57,
   "metadata": {},
   "outputs": [
    {
     "name": "stdout",
     "output_type": "stream",
     "text": [
      "7.87187327616288e+16 [ 6.26940360e+03 -7.87187328e+16 -8.23662037e+03 -1.45948277e+03\n",
      "  2.40923157e+03 -7.87187328e+16 -7.87187328e+16  1.56619908e+03\n",
      " -7.39105616e+02 -7.87187328e+16  8.70454216e+02]\n",
      "-------------------------------------------\n",
      "RMSLE is 1730.4545458405578\n"
     ]
    }
   ],
   "source": [
    "final = ['Automatic_YES','hp_192','age','Brand_1','Brand_6','hp_90','hp_70'\n",
    "                   , 'Brand_5' , 'Brand_2', 'hp_110' , 'Brand_4']\n",
    "\n",
    "X = df[final]\n",
    "min_max_scaler = preprocessing.MinMaxScaler()\n",
    "X_train_minmax = min_max_scaler.fit_transform(X)\n",
    "\n",
    "linear_reg = linear_model.LinearRegression()\n",
    "linear_reg.fit(X_train_minmax , Y)\n",
    "print(linear_reg.intercept_, linear_reg.coef_)\n",
    "\n",
    "# to get the prediction based on the model\n",
    "predtrain=linear_reg.predict(X_train_minmax)\n",
    "y_avg=np.mean(Y)\n",
    "r_sq = 1-(np.sum(predtrain - Y)**2)/np.sum((y_avg - Y)**2)\n",
    "\n",
    "# get the root mean squared logarithmic error\n",
    "rows = X.shape[0]\n",
    "RMSLE = np.sqrt(np.sum((predtrain - Y)**2) / rows)\n",
    "print(\"-------------------------------------------\")\n",
    "print(\"RMSLE is \" + str(RMSLE))"
   ]
  },
  {
   "cell_type": "code",
   "execution_count": null,
   "metadata": {},
   "outputs": [],
   "source": []
  },
  {
   "cell_type": "markdown",
   "metadata": {},
   "source": [
    "# <a id='7'>Q16) Using the seaborn package to generate the following graphs:\n",
    "  a) Scatter plot with raw data points and regression line\n",
    "    \n",
    "  b) Scatter plot between the price prediction and prediction error\n",
    "\n",
    "  c) Scatter plot with raw data points and two regression lines based on Automatic = 'YES' and Automatic= 'No'<a/>"
   ]
  },
  {
   "cell_type": "code",
   "execution_count": 61,
   "metadata": {},
   "outputs": [
    {
     "data": {
      "text/plain": [
       "<seaborn.axisgrid.FacetGrid at 0x1a209ec320>"
      ]
     },
     "execution_count": 61,
     "metadata": {},
     "output_type": "execute_result"
    },
    {
     "data": {
      "image/png": "[encoded data removed]",
      "text/plain": [
       "<Figure size 576x576 with 1 Axes>"
      ]
     },
     "metadata": {
      "needs_background": "light"
     },
     "output_type": "display_data"
    }
   ],
   "source": [
    "df['pred'] = predtrain\n",
    "sns.lmplot(x='pred' , y='price' , data = df , fit_reg=True , size=8)"
   ]
  },
  {
   "cell_type": "code",
   "execution_count": null,
   "metadata": {},
   "outputs": [],
   "source": []
  },
  {
   "cell_type": "code",
   "execution_count": 62,
   "metadata": {},
   "outputs": [
    {
     "data": {
      "text/plain": [
       "<seaborn.axisgrid.FacetGrid at 0x1a1f2b4390>"
      ]
     },
     "execution_count": 62,
     "metadata": {},
     "output_type": "execute_result"
    },
    {
     "data": {
      "image/png": "[encoded data removed]",
      "text/plain": [
       "<Figure size 658.625x576 with 1 Axes>"
      ]
     },
     "metadata": {
      "needs_background": "light"
     },
     "output_type": "display_data"
    }
   ],
   "source": [
    "df['pred'] = predtrain\n",
    "sns.lmplot(x='pred' , y = 'price', hue='Automatic_YES' , data=df , fit_reg=True, size=8)"
   ]
  },
  {
   "cell_type": "code",
   "execution_count": null,
   "metadata": {},
   "outputs": [],
   "source": []
  },
  {
   "cell_type": "code",
   "execution_count": null,
   "metadata": {},
   "outputs": [],
   "source": []
  },
  {
   "cell_type": "code",
   "execution_count": null,
   "metadata": {},
   "outputs": [],
   "source": []
  },
  {
   "cell_type": "code",
   "execution_count": null,
   "metadata": {},
   "outputs": [],
   "source": []
  },
  {
   "cell_type": "code",
   "execution_count": null,
   "metadata": {},
   "outputs": [],
   "source": []
  },
  {
   "cell_type": "code",
   "execution_count": null,
   "metadata": {},
   "outputs": [],
   "source": []
  },
  {
   "cell_type": "code",
   "execution_count": null,
   "metadata": {},
   "outputs": [],
   "source": []
  },
  {
   "cell_type": "code",
   "execution_count": null,
   "metadata": {},
   "outputs": [],
   "source": []
  },
  {
   "cell_type": "code",
   "execution_count": null,
   "metadata": {},
   "outputs": [],
   "source": []
  },
  {
   "cell_type": "code",
   "execution_count": null,
   "metadata": {},
   "outputs": [],
   "source": []
  },
  {
   "cell_type": "code",
   "execution_count": null,
   "metadata": {},
   "outputs": [],
   "source": []
  },
  {
   "cell_type": "code",
   "execution_count": null,
   "metadata": {},
   "outputs": [],
   "source": []
  },
  {
   "cell_type": "code",
   "execution_count": null,
   "metadata": {},
   "outputs": [],
   "source": []
  }
 ],
 "metadata": {
  "kernelspec": {
   "display_name": "Python [conda env:learn-env] *",
   "language": "python",
   "name": "conda-env-learn-env-py"
  },
  "language_info": {
   "codemirror_mode": {
    "name": "ipython",
    "version": 3
   },
   "file_extension": ".py",
   "mimetype": "text/x-python",
   "name": "python",
   "nbconvert_exporter": "python",
   "pygments_lexer": "ipython3",
   "version": "3.6.10"
  }
 },
 "nbformat": 4,
 "nbformat_minor": 4
}
